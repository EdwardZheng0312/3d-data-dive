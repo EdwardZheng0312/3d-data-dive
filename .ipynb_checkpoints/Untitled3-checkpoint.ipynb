{
 "cells": [
  {
   "cell_type": "code",
   "execution_count": 1,
   "metadata": {},
   "outputs": [],
   "source": [
    "import plotly"
   ]
  },
  {
   "cell_type": "code",
   "execution_count": 6,
   "metadata": {},
   "outputs": [
    {
     "ename": "NameError",
     "evalue": "name 'a' is not defined",
     "output_type": "error",
     "traceback": [
      "\u001b[1;31m---------------------------------------------------------------------------\u001b[0m",
      "\u001b[1;31mNameError\u001b[0m                                 Traceback (most recent call last)",
      "\u001b[1;32m<ipython-input-6-dd175396ac47>\u001b[0m in \u001b[0;36m<module>\u001b[1;34m()\u001b[0m\n\u001b[0;32m     28\u001b[0m \u001b[0mb\u001b[0m \u001b[1;33m=\u001b[0m \u001b[0mnp\u001b[0m\u001b[1;33m.\u001b[0m\u001b[0mlinspace\u001b[0m\u001b[1;33m(\u001b[0m\u001b[1;36m0\u001b[0m\u001b[1;33m,\u001b[0m \u001b[1;36m47\u001b[0m\u001b[1;33m,\u001b[0m \u001b[1;36m48\u001b[0m\u001b[1;33m)\u001b[0m\u001b[1;33m\u001b[0m\u001b[0m\n\u001b[0;32m     29\u001b[0m \u001b[0mc\u001b[0m \u001b[1;33m=\u001b[0m \u001b[0mz_approach\u001b[0m\u001b[1;33m\u001b[0m\u001b[0m\n\u001b[1;32m---> 30\u001b[1;33m \u001b[0mx\u001b[0m\u001b[1;33m,\u001b[0m \u001b[0mz\u001b[0m\u001b[1;33m,\u001b[0m \u001b[0my\u001b[0m \u001b[1;33m=\u001b[0m \u001b[0mnp\u001b[0m\u001b[1;33m.\u001b[0m\u001b[0mmeshgrid\u001b[0m\u001b[1;33m(\u001b[0m\u001b[0ma\u001b[0m\u001b[1;33m,\u001b[0m \u001b[0mc\u001b[0m\u001b[1;33m,\u001b[0m \u001b[0mb\u001b[0m\u001b[1;33m)\u001b[0m\u001b[1;33m\u001b[0m\u001b[0m\n\u001b[0m\u001b[0;32m     31\u001b[0m \u001b[1;33m\u001b[0m\u001b[0m\n\u001b[0;32m     32\u001b[0m \u001b[1;31m#phaseshift information as intensity case\u001b[0m\u001b[1;33m\u001b[0m\u001b[1;33m\u001b[0m\u001b[0m\n",
      "\u001b[1;31mNameError\u001b[0m: name 'a' is not defined"
     ]
    }
   ],
   "source": [
    "import plotly.plotly as py\n",
    "import plotly.graph_objs as go\n",
    "\n",
    "# Create random data with numpy\n",
    "import pandas as pd\n",
    "import numpy as np\n",
    "import matplotlib.pyplot as plt\n",
    "from mpl_toolkits.mplot3d import Axes3D\n",
    "from matplotlib import animation\n",
    "\n",
    "data = pd.read_csv('PHASEdata.csv',header=None, skiprows=1)\n",
    "z = data[0]\n",
    "#print(z)\n",
    "z_approach = z[:500]\n",
    "z_retract = z[500:]\n",
    "#print(z_approach)\n",
    "#print(z_retract)\n",
    "\n",
    "#phase shift\n",
    "pslist = []\n",
    "for k in range(len(z)):\n",
    "    phaseshift = data.iloc[k,1:]  #[from zero row to the end row, from second column to the last column]\n",
    "    #print(phaseshift)\n",
    "    ps = np.array(phaseshift)\n",
    "    ps_reshape = np.reshape(ps,(48,48))\n",
    "    pslist.append(ps_reshape)\n",
    "#print(pslist)a = np.linspace(0, 47, 48)\n",
    "\n",
    "a = np.linspace(0, 47, 48)\n",
    "b = np.linspace(0, 47, 48)\n",
    "c = z_approach\n",
    "x, z, y = np.meshgrid(a, c, b)\n",
    "\n",
    "#phaseshift information as intensity case\n",
    "psasas = []\n",
    "for k in range(len(c)):\n",
    "    C = pslist[k]\n",
    "    for i in range(len(a)):\n",
    "        B = pslist[k][i]\n",
    "        for j in range(len(b)):\n",
    "            A = pslist[k][i][j]\n",
    "            psasas.append(A)\n",
    "l = psasas\n",
    "\n",
    "fig = plt.figure(figsize=(9,9))\n",
    "ax = fig.add_subplot(111, projection='3d')\n",
    "ax.scatter(x, y, z, c=l, alpha=0.4)\n",
    "ax.set_xlabel('X(nm)', fontsize=15)\n",
    "ax.set_ylabel('Y(nm)', fontsize=15)\n",
    "ax.set_zlabel('Z(nm)', fontsize=15)\n",
    "ax.set_title('3D Plot for the AFM Phase Shift of XXX', fontsize=20)\n",
    "plt.show()"
   ]
  },
  {
   "cell_type": "code",
   "execution_count": null,
   "metadata": {},
   "outputs": [],
   "source": [
    "plot_url = py.plot_mpl(fig, filename=\"mpl-scatter\")"
   ]
  },
  {
   "cell_type": "code",
   "execution_count": null,
   "metadata": {},
   "outputs": [],
   "source": []
  }
 ],
 "metadata": {
  "kernelspec": {
   "display_name": "Python 3",
   "language": "python",
   "name": "python3"
  },
  "language_info": {
   "codemirror_mode": {
    "name": "ipython",
    "version": 3
   },
   "file_extension": ".py",
   "mimetype": "text/x-python",
   "name": "python",
   "nbconvert_exporter": "python",
   "pygments_lexer": "ipython3",
   "version": "3.6.3"
  }
 },
 "nbformat": 4,
 "nbformat_minor": 2
}
