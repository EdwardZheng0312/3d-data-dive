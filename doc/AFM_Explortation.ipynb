{
 "cells": [
  {
   "cell_type": "code",
   "execution_count": 1,
   "metadata": {},
   "outputs": [],
   "source": [
    "import pandas as pd\n",
    "import numpy as np"
   ]
  },
  {
   "cell_type": "code",
   "execution_count": 2,
   "metadata": {},
   "outputs": [
    {
     "ename": "FileNotFoundError",
     "evalue": "File b'PHASEdataCSV.csv' does not exist",
     "output_type": "error",
     "traceback": [
      "\u001b[0;31m---------------------------------------------------------------------------\u001b[0m",
      "\u001b[0;31mFileNotFoundError\u001b[0m                         Traceback (most recent call last)",
      "\u001b[0;32m<ipython-input-2-cc2eb2e437fb>\u001b[0m in \u001b[0;36m<module>\u001b[0;34m()\u001b[0m\n\u001b[0;32m----> 1\u001b[0;31m \u001b[0mdata\u001b[0m \u001b[0;34m=\u001b[0m \u001b[0mpd\u001b[0m\u001b[0;34m.\u001b[0m\u001b[0mread_csv\u001b[0m\u001b[0;34m(\u001b[0m\u001b[0;34m\"PHASEdataCSV.csv\"\u001b[0m\u001b[0;34m)\u001b[0m\u001b[0;34m\u001b[0m\u001b[0m\n\u001b[0m",
      "\u001b[0;32m~/miniconda3/lib/python3.6/site-packages/pandas/io/parsers.py\u001b[0m in \u001b[0;36mparser_f\u001b[0;34m(filepath_or_buffer, sep, delimiter, header, names, index_col, usecols, squeeze, prefix, mangle_dupe_cols, dtype, engine, converters, true_values, false_values, skipinitialspace, skiprows, nrows, na_values, keep_default_na, na_filter, verbose, skip_blank_lines, parse_dates, infer_datetime_format, keep_date_col, date_parser, dayfirst, iterator, chunksize, compression, thousands, decimal, lineterminator, quotechar, quoting, escapechar, comment, encoding, dialect, tupleize_cols, error_bad_lines, warn_bad_lines, skipfooter, skip_footer, doublequote, delim_whitespace, as_recarray, compact_ints, use_unsigned, low_memory, buffer_lines, memory_map, float_precision)\u001b[0m\n\u001b[1;32m    707\u001b[0m                     skip_blank_lines=skip_blank_lines)\n\u001b[1;32m    708\u001b[0m \u001b[0;34m\u001b[0m\u001b[0m\n\u001b[0;32m--> 709\u001b[0;31m         \u001b[0;32mreturn\u001b[0m \u001b[0m_read\u001b[0m\u001b[0;34m(\u001b[0m\u001b[0mfilepath_or_buffer\u001b[0m\u001b[0;34m,\u001b[0m \u001b[0mkwds\u001b[0m\u001b[0;34m)\u001b[0m\u001b[0;34m\u001b[0m\u001b[0m\n\u001b[0m\u001b[1;32m    710\u001b[0m \u001b[0;34m\u001b[0m\u001b[0m\n\u001b[1;32m    711\u001b[0m     \u001b[0mparser_f\u001b[0m\u001b[0;34m.\u001b[0m\u001b[0m__name__\u001b[0m \u001b[0;34m=\u001b[0m \u001b[0mname\u001b[0m\u001b[0;34m\u001b[0m\u001b[0m\n",
      "\u001b[0;32m~/miniconda3/lib/python3.6/site-packages/pandas/io/parsers.py\u001b[0m in \u001b[0;36m_read\u001b[0;34m(filepath_or_buffer, kwds)\u001b[0m\n\u001b[1;32m    447\u001b[0m \u001b[0;34m\u001b[0m\u001b[0m\n\u001b[1;32m    448\u001b[0m     \u001b[0;31m# Create the parser.\u001b[0m\u001b[0;34m\u001b[0m\u001b[0;34m\u001b[0m\u001b[0m\n\u001b[0;32m--> 449\u001b[0;31m     \u001b[0mparser\u001b[0m \u001b[0;34m=\u001b[0m \u001b[0mTextFileReader\u001b[0m\u001b[0;34m(\u001b[0m\u001b[0mfilepath_or_buffer\u001b[0m\u001b[0;34m,\u001b[0m \u001b[0;34m**\u001b[0m\u001b[0mkwds\u001b[0m\u001b[0;34m)\u001b[0m\u001b[0;34m\u001b[0m\u001b[0m\n\u001b[0m\u001b[1;32m    450\u001b[0m \u001b[0;34m\u001b[0m\u001b[0m\n\u001b[1;32m    451\u001b[0m     \u001b[0;32mif\u001b[0m \u001b[0mchunksize\u001b[0m \u001b[0;32mor\u001b[0m \u001b[0miterator\u001b[0m\u001b[0;34m:\u001b[0m\u001b[0;34m\u001b[0m\u001b[0m\n",
      "\u001b[0;32m~/miniconda3/lib/python3.6/site-packages/pandas/io/parsers.py\u001b[0m in \u001b[0;36m__init__\u001b[0;34m(self, f, engine, **kwds)\u001b[0m\n\u001b[1;32m    816\u001b[0m             \u001b[0mself\u001b[0m\u001b[0;34m.\u001b[0m\u001b[0moptions\u001b[0m\u001b[0;34m[\u001b[0m\u001b[0;34m'has_index_names'\u001b[0m\u001b[0;34m]\u001b[0m \u001b[0;34m=\u001b[0m \u001b[0mkwds\u001b[0m\u001b[0;34m[\u001b[0m\u001b[0;34m'has_index_names'\u001b[0m\u001b[0;34m]\u001b[0m\u001b[0;34m\u001b[0m\u001b[0m\n\u001b[1;32m    817\u001b[0m \u001b[0;34m\u001b[0m\u001b[0m\n\u001b[0;32m--> 818\u001b[0;31m         \u001b[0mself\u001b[0m\u001b[0;34m.\u001b[0m\u001b[0m_make_engine\u001b[0m\u001b[0;34m(\u001b[0m\u001b[0mself\u001b[0m\u001b[0;34m.\u001b[0m\u001b[0mengine\u001b[0m\u001b[0;34m)\u001b[0m\u001b[0;34m\u001b[0m\u001b[0m\n\u001b[0m\u001b[1;32m    819\u001b[0m \u001b[0;34m\u001b[0m\u001b[0m\n\u001b[1;32m    820\u001b[0m     \u001b[0;32mdef\u001b[0m \u001b[0mclose\u001b[0m\u001b[0;34m(\u001b[0m\u001b[0mself\u001b[0m\u001b[0;34m)\u001b[0m\u001b[0;34m:\u001b[0m\u001b[0;34m\u001b[0m\u001b[0m\n",
      "\u001b[0;32m~/miniconda3/lib/python3.6/site-packages/pandas/io/parsers.py\u001b[0m in \u001b[0;36m_make_engine\u001b[0;34m(self, engine)\u001b[0m\n\u001b[1;32m   1047\u001b[0m     \u001b[0;32mdef\u001b[0m \u001b[0m_make_engine\u001b[0m\u001b[0;34m(\u001b[0m\u001b[0mself\u001b[0m\u001b[0;34m,\u001b[0m \u001b[0mengine\u001b[0m\u001b[0;34m=\u001b[0m\u001b[0;34m'c'\u001b[0m\u001b[0;34m)\u001b[0m\u001b[0;34m:\u001b[0m\u001b[0;34m\u001b[0m\u001b[0m\n\u001b[1;32m   1048\u001b[0m         \u001b[0;32mif\u001b[0m \u001b[0mengine\u001b[0m \u001b[0;34m==\u001b[0m \u001b[0;34m'c'\u001b[0m\u001b[0;34m:\u001b[0m\u001b[0;34m\u001b[0m\u001b[0m\n\u001b[0;32m-> 1049\u001b[0;31m             \u001b[0mself\u001b[0m\u001b[0;34m.\u001b[0m\u001b[0m_engine\u001b[0m \u001b[0;34m=\u001b[0m \u001b[0mCParserWrapper\u001b[0m\u001b[0;34m(\u001b[0m\u001b[0mself\u001b[0m\u001b[0;34m.\u001b[0m\u001b[0mf\u001b[0m\u001b[0;34m,\u001b[0m \u001b[0;34m**\u001b[0m\u001b[0mself\u001b[0m\u001b[0;34m.\u001b[0m\u001b[0moptions\u001b[0m\u001b[0;34m)\u001b[0m\u001b[0;34m\u001b[0m\u001b[0m\n\u001b[0m\u001b[1;32m   1050\u001b[0m         \u001b[0;32melse\u001b[0m\u001b[0;34m:\u001b[0m\u001b[0;34m\u001b[0m\u001b[0m\n\u001b[1;32m   1051\u001b[0m             \u001b[0;32mif\u001b[0m \u001b[0mengine\u001b[0m \u001b[0;34m==\u001b[0m \u001b[0;34m'python'\u001b[0m\u001b[0;34m:\u001b[0m\u001b[0;34m\u001b[0m\u001b[0m\n",
      "\u001b[0;32m~/miniconda3/lib/python3.6/site-packages/pandas/io/parsers.py\u001b[0m in \u001b[0;36m__init__\u001b[0;34m(self, src, **kwds)\u001b[0m\n\u001b[1;32m   1693\u001b[0m         \u001b[0mkwds\u001b[0m\u001b[0;34m[\u001b[0m\u001b[0;34m'allow_leading_cols'\u001b[0m\u001b[0;34m]\u001b[0m \u001b[0;34m=\u001b[0m \u001b[0mself\u001b[0m\u001b[0;34m.\u001b[0m\u001b[0mindex_col\u001b[0m \u001b[0;32mis\u001b[0m \u001b[0;32mnot\u001b[0m \u001b[0;32mFalse\u001b[0m\u001b[0;34m\u001b[0m\u001b[0m\n\u001b[1;32m   1694\u001b[0m \u001b[0;34m\u001b[0m\u001b[0m\n\u001b[0;32m-> 1695\u001b[0;31m         \u001b[0mself\u001b[0m\u001b[0;34m.\u001b[0m\u001b[0m_reader\u001b[0m \u001b[0;34m=\u001b[0m \u001b[0mparsers\u001b[0m\u001b[0;34m.\u001b[0m\u001b[0mTextReader\u001b[0m\u001b[0;34m(\u001b[0m\u001b[0msrc\u001b[0m\u001b[0;34m,\u001b[0m \u001b[0;34m**\u001b[0m\u001b[0mkwds\u001b[0m\u001b[0;34m)\u001b[0m\u001b[0;34m\u001b[0m\u001b[0m\n\u001b[0m\u001b[1;32m   1696\u001b[0m \u001b[0;34m\u001b[0m\u001b[0m\n\u001b[1;32m   1697\u001b[0m         \u001b[0;31m# XXX\u001b[0m\u001b[0;34m\u001b[0m\u001b[0;34m\u001b[0m\u001b[0m\n",
      "\u001b[0;32mpandas/_libs/parsers.pyx\u001b[0m in \u001b[0;36mpandas._libs.parsers.TextReader.__cinit__\u001b[0;34m()\u001b[0m\n",
      "\u001b[0;32mpandas/_libs/parsers.pyx\u001b[0m in \u001b[0;36mpandas._libs.parsers.TextReader._setup_parser_source\u001b[0;34m()\u001b[0m\n",
      "\u001b[0;31mFileNotFoundError\u001b[0m: File b'PHASEdataCSV.csv' does not exist"
     ]
    }
   ],
   "source": [
    "data = pd.read_csv(\"PHASEdataCSV.csv\")"
   ]
  },
  {
   "cell_type": "code",
   "execution_count": null,
   "metadata": {},
   "outputs": [],
   "source": [
    "data.head()"
   ]
  },
  {
   "cell_type": "code",
   "execution_count": 105,
   "metadata": {},
   "outputs": [],
   "source": [
    "data.rename(columns={'Phase ': 'Unnamed: 1'}, inplace=True)"
   ]
  },
  {
   "cell_type": "code",
   "execution_count": 103,
   "metadata": {},
   "outputs": [
    {
     "data": {
      "text/plain": [
       "Index(['Z (nm)', 'Unnamed: 1', 'Unnamed: 2', 'Unnamed: 3', 'Unnamed: 4',\n",
       "       'Unnamed: 5', 'Unnamed: 6', 'Unnamed: 7', 'Unnamed: 8', 'Unnamed: 9',\n",
       "       ...\n",
       "       'Unnamed: 2295', 'Unnamed: 2296', 'Unnamed: 2297', 'Unnamed: 2298',\n",
       "       'Unnamed: 2299', 'Unnamed: 2300', 'Unnamed: 2301', 'Unnamed: 2302',\n",
       "       'Unnamed: 2303', 'Unnamed: 2304'],\n",
       "      dtype='object', length=2305)"
      ]
     },
     "execution_count": 103,
     "metadata": {},
     "output_type": "execute_result"
    }
   ],
   "source": [
    "data.columns"
   ]
  },
  {
   "cell_type": "code",
   "execution_count": 183,
   "metadata": {},
   "outputs": [],
   "source": [
    "#Replace unnamed columns with numerical values.\n",
    "i = iter(range(1, len(data.columns) + 1))\n",
    "data.columns = [x if not x.startswith('Unnamed') else next(i) for x in data.columns]"
   ]
  },
  {
   "cell_type": "code",
   "execution_count": 184,
   "metadata": {},
   "outputs": [],
   "source": [
    "data = pd.DataFrame(data)"
   ]
  },
  {
   "cell_type": "code",
   "execution_count": 185,
   "metadata": {},
   "outputs": [
    {
     "data": {
      "text/html": [
       "<div>\n",
       "<style scoped>\n",
       "    .dataframe tbody tr th:only-of-type {\n",
       "        vertical-align: middle;\n",
       "    }\n",
       "\n",
       "    .dataframe tbody tr th {\n",
       "        vertical-align: top;\n",
       "    }\n",
       "\n",
       "    .dataframe thead th {\n",
       "        text-align: right;\n",
       "    }\n",
       "</style>\n",
       "<table border=\"1\" class=\"dataframe\">\n",
       "  <thead>\n",
       "    <tr style=\"text-align: right;\">\n",
       "      <th></th>\n",
       "      <th>Z (nm)</th>\n",
       "      <th>1</th>\n",
       "      <th>2</th>\n",
       "      <th>3</th>\n",
       "      <th>4</th>\n",
       "      <th>5</th>\n",
       "      <th>6</th>\n",
       "      <th>7</th>\n",
       "      <th>8</th>\n",
       "      <th>9</th>\n",
       "      <th>...</th>\n",
       "      <th>2295</th>\n",
       "      <th>2296</th>\n",
       "      <th>2297</th>\n",
       "      <th>2298</th>\n",
       "      <th>2299</th>\n",
       "      <th>2300</th>\n",
       "      <th>2301</th>\n",
       "      <th>2302</th>\n",
       "      <th>2303</th>\n",
       "      <th>2304</th>\n",
       "    </tr>\n",
       "  </thead>\n",
       "  <tbody>\n",
       "    <tr>\n",
       "      <th>0</th>\n",
       "      <td>2.000000</td>\n",
       "      <td>91.948970</td>\n",
       "      <td>91.706791</td>\n",
       "      <td>90.946050</td>\n",
       "      <td>91.316316</td>\n",
       "      <td>91.234438</td>\n",
       "      <td>90.569484</td>\n",
       "      <td>91.274254</td>\n",
       "      <td>91.903525</td>\n",
       "      <td>90.900799</td>\n",
       "      <td>...</td>\n",
       "      <td>90.522709</td>\n",
       "      <td>90.680466</td>\n",
       "      <td>91.222726</td>\n",
       "      <td>91.098012</td>\n",
       "      <td>90.984417</td>\n",
       "      <td>91.541935</td>\n",
       "      <td>91.956749</td>\n",
       "      <td>91.799184</td>\n",
       "      <td>90.407954</td>\n",
       "      <td>91.608806</td>\n",
       "    </tr>\n",
       "    <tr>\n",
       "      <th>1</th>\n",
       "      <td>1.999980</td>\n",
       "      <td>91.823050</td>\n",
       "      <td>90.997308</td>\n",
       "      <td>90.177687</td>\n",
       "      <td>91.675193</td>\n",
       "      <td>90.210515</td>\n",
       "      <td>91.814168</td>\n",
       "      <td>90.925633</td>\n",
       "      <td>90.524117</td>\n",
       "      <td>90.770430</td>\n",
       "      <td>...</td>\n",
       "      <td>90.111633</td>\n",
       "      <td>90.758103</td>\n",
       "      <td>91.631524</td>\n",
       "      <td>91.358850</td>\n",
       "      <td>90.075962</td>\n",
       "      <td>90.881316</td>\n",
       "      <td>91.702550</td>\n",
       "      <td>90.044096</td>\n",
       "      <td>90.646009</td>\n",
       "      <td>91.750187</td>\n",
       "    </tr>\n",
       "    <tr>\n",
       "      <th>2</th>\n",
       "      <td>1.999921</td>\n",
       "      <td>91.487359</td>\n",
       "      <td>91.562371</td>\n",
       "      <td>91.494568</td>\n",
       "      <td>90.941529</td>\n",
       "      <td>90.580548</td>\n",
       "      <td>91.530404</td>\n",
       "      <td>91.258212</td>\n",
       "      <td>91.188640</td>\n",
       "      <td>90.096011</td>\n",
       "      <td>...</td>\n",
       "      <td>91.297081</td>\n",
       "      <td>91.204475</td>\n",
       "      <td>90.777296</td>\n",
       "      <td>91.729438</td>\n",
       "      <td>90.434161</td>\n",
       "      <td>90.652615</td>\n",
       "      <td>90.270954</td>\n",
       "      <td>90.448096</td>\n",
       "      <td>90.215209</td>\n",
       "      <td>90.329863</td>\n",
       "    </tr>\n",
       "    <tr>\n",
       "      <th>3</th>\n",
       "      <td>1.999822</td>\n",
       "      <td>91.521175</td>\n",
       "      <td>90.656362</td>\n",
       "      <td>90.308627</td>\n",
       "      <td>91.777453</td>\n",
       "      <td>90.433671</td>\n",
       "      <td>91.111552</td>\n",
       "      <td>90.105340</td>\n",
       "      <td>90.690464</td>\n",
       "      <td>91.960605</td>\n",
       "      <td>...</td>\n",
       "      <td>90.034236</td>\n",
       "      <td>91.879132</td>\n",
       "      <td>91.649429</td>\n",
       "      <td>91.158372</td>\n",
       "      <td>91.333904</td>\n",
       "      <td>91.584472</td>\n",
       "      <td>91.654439</td>\n",
       "      <td>91.273196</td>\n",
       "      <td>90.205081</td>\n",
       "      <td>90.840706</td>\n",
       "    </tr>\n",
       "    <tr>\n",
       "      <th>4</th>\n",
       "      <td>1.999684</td>\n",
       "      <td>91.259976</td>\n",
       "      <td>91.345418</td>\n",
       "      <td>91.886045</td>\n",
       "      <td>91.568526</td>\n",
       "      <td>90.025298</td>\n",
       "      <td>91.120202</td>\n",
       "      <td>91.775452</td>\n",
       "      <td>91.953569</td>\n",
       "      <td>90.386481</td>\n",
       "      <td>...</td>\n",
       "      <td>90.648606</td>\n",
       "      <td>90.450429</td>\n",
       "      <td>90.310075</td>\n",
       "      <td>91.725319</td>\n",
       "      <td>91.640608</td>\n",
       "      <td>91.565779</td>\n",
       "      <td>91.672420</td>\n",
       "      <td>90.329641</td>\n",
       "      <td>91.570910</td>\n",
       "      <td>90.447380</td>\n",
       "    </tr>\n",
       "  </tbody>\n",
       "</table>\n",
       "<p>5 rows × 2305 columns</p>\n",
       "</div>"
      ],
      "text/plain": [
       "     Z (nm)          1          2          3          4          5          6  \\\n",
       "0  2.000000  91.948970  91.706791  90.946050  91.316316  91.234438  90.569484   \n",
       "1  1.999980  91.823050  90.997308  90.177687  91.675193  90.210515  91.814168   \n",
       "2  1.999921  91.487359  91.562371  91.494568  90.941529  90.580548  91.530404   \n",
       "3  1.999822  91.521175  90.656362  90.308627  91.777453  90.433671  91.111552   \n",
       "4  1.999684  91.259976  91.345418  91.886045  91.568526  90.025298  91.120202   \n",
       "\n",
       "           7          8          9    ...           2295       2296  \\\n",
       "0  91.274254  91.903525  90.900799    ...      90.522709  90.680466   \n",
       "1  90.925633  90.524117  90.770430    ...      90.111633  90.758103   \n",
       "2  91.258212  91.188640  90.096011    ...      91.297081  91.204475   \n",
       "3  90.105340  90.690464  91.960605    ...      90.034236  91.879132   \n",
       "4  91.775452  91.953569  90.386481    ...      90.648606  90.450429   \n",
       "\n",
       "        2297       2298       2299       2300       2301       2302  \\\n",
       "0  91.222726  91.098012  90.984417  91.541935  91.956749  91.799184   \n",
       "1  91.631524  91.358850  90.075962  90.881316  91.702550  90.044096   \n",
       "2  90.777296  91.729438  90.434161  90.652615  90.270954  90.448096   \n",
       "3  91.649429  91.158372  91.333904  91.584472  91.654439  91.273196   \n",
       "4  90.310075  91.725319  91.640608  91.565779  91.672420  90.329641   \n",
       "\n",
       "        2303       2304  \n",
       "0  90.407954  91.608806  \n",
       "1  90.646009  91.750187  \n",
       "2  90.215209  90.329863  \n",
       "3  90.205081  90.840706  \n",
       "4  91.570910  90.447380  \n",
       "\n",
       "[5 rows x 2305 columns]"
      ]
     },
     "execution_count": 185,
     "metadata": {},
     "output_type": "execute_result"
    }
   ],
   "source": [
    "data.head()"
   ]
  },
  {
   "cell_type": "code",
   "execution_count": 111,
   "metadata": {},
   "outputs": [],
   "source": [
    "Data_Z = pd.DataFrame(data[('Z (nm)')])"
   ]
  },
  {
   "cell_type": "code",
   "execution_count": 209,
   "metadata": {},
   "outputs": [],
   "source": [
    "Data_First_Row = pd.DataFrame(data.iloc[0])"
   ]
  },
  {
   "cell_type": "code",
   "execution_count": 187,
   "metadata": {},
   "outputs": [],
   "source": [
    "Data_First_Row_Parse = pd.DataFrame(Data_First_Row.iloc[1:49])"
   ]
  },
  {
   "cell_type": "code",
   "execution_count": null,
   "metadata": {},
   "outputs": [],
   "source": [
    "def extrapolate_400K(self, components):\n",
    "\n",
    "        # make a new DataFrame from the list\n",
    "        new_df = self.data[component_list]\n",
    "        new_df['T'] = 400\n",
    "        # drop all the NaN rows\n",
    "        new_df = new_df[np.isfinite(new_df['Resist. (400K)'])]\n",
    "        component_list = ['Resist', 'Seebeck', 'Formula']\\\n",
    "            + components + ['T (K)']\n",
    "        new_df.columns = component_list\n",
    "\n",
    "        # now make a df from the current self.data\n",
    "        old_component_list = ['T (K)', 'Resist. (Ohm.cm)', 'Seebeck (uV/K)',\n",
    "                              'Formula'] + components\n",
    "        old_df = self.data[old_component_list]\n",
    "        old_component_list = ['T (K)', 'Resist', 'Seebeck', 'Formula']\\\n",
    "            + components\n",
    "        old_df.columns = old_component_list  # change column names\n",
    "\n",
    "        final_df = pd.concat([old_df, new_df], ignore_index=True)\n",
    "\n",
    "        # delete duplicates\n",
    "        final_df.drop_duplicates(keep=False)\n",
    "\n",
    "        return final_df\n"
   ]
  },
  {
   "cell_type": "code",
   "execution_count": 246,
   "metadata": {},
   "outputs": [],
   "source": [
    "def parsedata(df,k):\n",
    "    Data_Transformed = pd.DataFrame(df.copy())\n",
    "    Data_Transformed = Data_Transformed.T\n",
    "    if len(Data_Transformed.columns) > (k + 1):\n",
    "        row_parse = pd.DataFrame(Data_Transformed.iloc[:, 1:49])\n",
    "        new_df = pd.concat([Data_First_Row_T, row_parse])\n",
    "        new_df.drop_duplicates(keep = False)\n",
    "    else:\n",
    "        new_df2['Z (nm)'] = new_df2['Z (nm)'].iloc[0]\n",
    "        pass\n",
    "    return new_df"
   ]
  },
  {
   "cell_type": "code",
   "execution_count": null,
   "metadata": {},
   "outputs": [],
   "source": [
    "def test(df):\n",
    "    for i in range(len(df)):\n",
    "        if len(df) > 2:\n",
    "            df = df[:-1]\n",
    "            continue\n",
    "        else:\n",
    "            return df"
   ]
  },
  {
   "cell_type": "code",
   "execution_count": 355,
   "metadata": {},
   "outputs": [],
   "source": [
    "def parsetry(df):\n",
    "    Data_Transformed = pd.DataFrame(df.copy())\n",
    "    Data_Transformed = Data_Transformed.T\n",
    "    for i in range(len(Data_Transformed.columns)):\n",
    "        if len(Data_Transformed.columns) > (49):\n",
    "            Data_Transformed = Data_Transformed.iloc[:, :-1]\n",
    "            continue\n",
    "        else:\n",
    "            pass\n",
    "    return Data_Transformed"
   ]
  },
  {
   "cell_type": "code",
   "execution_count": 360,
   "metadata": {},
   "outputs": [],
   "source": [
    "def parsetry2(df):    \n",
    "    Data_Transformed = pd.DataFrame(df.copy())\n",
    "    Data_Transformed = Data_Transformed.T\n",
    "    for i in range(len(Data_Transformed.columns)):\n",
    "        if len(Data_Transformed.columns) > (48):\n",
    "            row_parse = pd.DataFrame(Data_Transformed.iloc[:, 1:49])\n",
    "            new_df = pd.concat([Data_First_Row_T, row_parse])\n",
    "            new_df.drop_duplicates(keep = False)\n",
    "        else:\n",
    "            pass\n",
    "    return new_df"
   ]
  },
  {
   "cell_type": "code",
   "execution_count": 361,
   "metadata": {
    "scrolled": true
   },
   "outputs": [
    {
     "name": "stderr",
     "output_type": "stream",
     "text": [
      "/Users/Ellen_M/miniconda3/lib/python3.6/site-packages/pandas/core/indexes/api.py:87: RuntimeWarning:\n",
      "\n",
      "'<' not supported between instances of 'int' and 'str', sort order is undefined for incomparable objects\n",
      "\n"
     ]
    },
    {
     "data": {
      "text/html": [
       "<div>\n",
       "<style scoped>\n",
       "    .dataframe tbody tr th:only-of-type {\n",
       "        vertical-align: middle;\n",
       "    }\n",
       "\n",
       "    .dataframe tbody tr th {\n",
       "        vertical-align: top;\n",
       "    }\n",
       "\n",
       "    .dataframe thead th {\n",
       "        text-align: right;\n",
       "    }\n",
       "</style>\n",
       "<table border=\"1\" class=\"dataframe\">\n",
       "  <thead>\n",
       "    <tr style=\"text-align: right;\">\n",
       "      <th></th>\n",
       "      <th>Z (nm)</th>\n",
       "      <th>1</th>\n",
       "      <th>2</th>\n",
       "      <th>3</th>\n",
       "      <th>4</th>\n",
       "      <th>5</th>\n",
       "      <th>6</th>\n",
       "      <th>7</th>\n",
       "      <th>8</th>\n",
       "      <th>9</th>\n",
       "      <th>...</th>\n",
       "      <th>2295</th>\n",
       "      <th>2296</th>\n",
       "      <th>2297</th>\n",
       "      <th>2298</th>\n",
       "      <th>2299</th>\n",
       "      <th>2300</th>\n",
       "      <th>2301</th>\n",
       "      <th>2302</th>\n",
       "      <th>2303</th>\n",
       "      <th>2304</th>\n",
       "    </tr>\n",
       "  </thead>\n",
       "  <tbody>\n",
       "    <tr>\n",
       "      <th>0</th>\n",
       "      <td>2.0</td>\n",
       "      <td>91.948970</td>\n",
       "      <td>91.706791</td>\n",
       "      <td>90.946050</td>\n",
       "      <td>91.316316</td>\n",
       "      <td>91.234438</td>\n",
       "      <td>90.569484</td>\n",
       "      <td>91.274254</td>\n",
       "      <td>91.903525</td>\n",
       "      <td>90.900799</td>\n",
       "      <td>...</td>\n",
       "      <td>90.522709</td>\n",
       "      <td>90.680466</td>\n",
       "      <td>91.222726</td>\n",
       "      <td>91.098012</td>\n",
       "      <td>90.984417</td>\n",
       "      <td>91.541935</td>\n",
       "      <td>91.956749</td>\n",
       "      <td>91.799184</td>\n",
       "      <td>90.407954</td>\n",
       "      <td>91.608806</td>\n",
       "    </tr>\n",
       "    <tr>\n",
       "      <th>0</th>\n",
       "      <td>NaN</td>\n",
       "      <td>1.010101</td>\n",
       "      <td>2.020202</td>\n",
       "      <td>3.030303</td>\n",
       "      <td>4.040404</td>\n",
       "      <td>5.050505</td>\n",
       "      <td>6.060606</td>\n",
       "      <td>7.070707</td>\n",
       "      <td>8.080808</td>\n",
       "      <td>9.090909</td>\n",
       "      <td>...</td>\n",
       "      <td>NaN</td>\n",
       "      <td>NaN</td>\n",
       "      <td>NaN</td>\n",
       "      <td>NaN</td>\n",
       "      <td>NaN</td>\n",
       "      <td>NaN</td>\n",
       "      <td>NaN</td>\n",
       "      <td>NaN</td>\n",
       "      <td>NaN</td>\n",
       "      <td>NaN</td>\n",
       "    </tr>\n",
       "  </tbody>\n",
       "</table>\n",
       "<p>2 rows × 2305 columns</p>\n",
       "</div>"
      ],
      "text/plain": [
       "   Z (nm)          1          2          3          4          5          6  \\\n",
       "0     2.0  91.948970  91.706791  90.946050  91.316316  91.234438  90.569484   \n",
       "0     NaN   1.010101   2.020202   3.030303   4.040404   5.050505   6.060606   \n",
       "\n",
       "           7          8          9    ...           2295       2296  \\\n",
       "0  91.274254  91.903525  90.900799    ...      90.522709  90.680466   \n",
       "0   7.070707   8.080808   9.090909    ...            NaN        NaN   \n",
       "\n",
       "        2297       2298       2299       2300       2301       2302  \\\n",
       "0  91.222726  91.098012  90.984417  91.541935  91.956749  91.799184   \n",
       "0        NaN        NaN        NaN        NaN        NaN        NaN   \n",
       "\n",
       "        2303       2304  \n",
       "0  90.407954  91.608806  \n",
       "0        NaN        NaN  \n",
       "\n",
       "[2 rows x 2305 columns]"
      ]
     },
     "execution_count": 361,
     "metadata": {},
     "output_type": "execute_result"
    }
   ],
   "source": [
    "foo = pd.DataFrame(np.linspace(0,100,100))\n",
    "parsetry2(foo)"
   ]
  },
  {
   "cell_type": "code",
   "execution_count": 307,
   "metadata": {},
   "outputs": [],
   "source": [
    "def test(df):\n",
    "    for i in range(len(df)):\n",
    "        if len(df) > 2:\n",
    "            df = df[:-1]\n",
    "            continue\n",
    "        else:\n",
    "            return df"
   ]
  },
  {
   "cell_type": "code",
   "execution_count": 362,
   "metadata": {},
   "outputs": [
    {
     "name": "stdout",
     "output_type": "stream",
     "text": [
      "all good\n",
      "all good\n",
      "all good\n",
      "all good\n",
      "all good\n",
      "all good\n",
      "all good\n",
      "all good\n",
      "all good\n",
      "all good\n",
      "all good\n",
      "all good\n",
      "all good\n",
      "all good\n",
      "all good\n",
      "all good\n",
      "all good\n",
      "all good\n",
      "all good\n",
      "all good\n",
      "all good\n",
      "all good\n",
      "all good\n",
      "all good\n",
      "all good\n",
      "all good\n",
      "all good\n",
      "all good\n",
      "all good\n",
      "all good\n",
      "all good\n",
      "all good\n",
      "all good\n",
      "all good\n",
      "all good\n",
      "all good\n",
      "all good\n",
      "all good\n",
      "all good\n",
      "all good\n",
      "all good\n",
      "all good\n",
      "all good\n",
      "all good\n",
      "all good\n",
      "all good\n",
      "all good\n",
      "all good\n",
      "all good\n",
      "all good\n",
      "all good\n",
      "all good\n",
      "all good\n",
      "all good\n",
      "all good\n",
      "all good\n",
      "all good\n",
      "all good\n",
      "all good\n",
      "all good\n",
      "all good\n",
      "all good\n",
      "all good\n",
      "all good\n",
      "all good\n",
      "all good\n",
      "all good\n",
      "all good\n",
      "all good\n",
      "all good\n",
      "all good\n",
      "all good\n",
      "all good\n",
      "all good\n",
      "all good\n",
      "all good\n",
      "all good\n",
      "all good\n",
      "all good\n",
      "all good\n",
      "all good\n",
      "all good\n",
      "all good\n",
      "all good\n",
      "all good\n",
      "all good\n",
      "all good\n",
      "all good\n",
      "all good\n",
      "all good\n",
      "all good\n",
      "all good\n",
      "all good\n",
      "all good\n",
      "all good\n",
      "all good\n",
      "all good\n",
      "all good\n",
      "all good\n",
      "all good\n"
     ]
    }
   ],
   "source": [
    "Data_Transformed = pd.DataFrame(foo.copy())\n",
    "Data_Transformed = Data_Transformed.T\n",
    "for i in range(len(Data_Transformed.columns)):\n",
    "    if len(Data_Transformed.columns) > (48):\n",
    "        print('all good')\n",
    "    else:\n",
    "        print('bad')"
   ]
  },
  {
   "cell_type": "code",
   "execution_count": 194,
   "metadata": {},
   "outputs": [],
   "source": [
    "row_parse2 = pd.DataFrame(Data_First_Row_T.iloc[:, 1:49])\n",
    "new_df2 = pd.concat([new_df, row_parse2], ignore_index = True)"
   ]
  },
  {
   "cell_type": "code",
   "execution_count": 195,
   "metadata": {},
   "outputs": [
    {
     "data": {
      "text/html": [
       "<div>\n",
       "<style scoped>\n",
       "    .dataframe tbody tr th:only-of-type {\n",
       "        vertical-align: middle;\n",
       "    }\n",
       "\n",
       "    .dataframe tbody tr th {\n",
       "        vertical-align: top;\n",
       "    }\n",
       "\n",
       "    .dataframe thead th {\n",
       "        text-align: right;\n",
       "    }\n",
       "</style>\n",
       "<table border=\"1\" class=\"dataframe\">\n",
       "  <thead>\n",
       "    <tr style=\"text-align: right;\">\n",
       "      <th></th>\n",
       "      <th>Z (nm)</th>\n",
       "      <th>1</th>\n",
       "      <th>2</th>\n",
       "      <th>3</th>\n",
       "      <th>4</th>\n",
       "      <th>5</th>\n",
       "      <th>6</th>\n",
       "      <th>7</th>\n",
       "      <th>8</th>\n",
       "      <th>9</th>\n",
       "      <th>...</th>\n",
       "      <th>2295</th>\n",
       "      <th>2296</th>\n",
       "      <th>2297</th>\n",
       "      <th>2298</th>\n",
       "      <th>2299</th>\n",
       "      <th>2300</th>\n",
       "      <th>2301</th>\n",
       "      <th>2302</th>\n",
       "      <th>2303</th>\n",
       "      <th>2304</th>\n",
       "    </tr>\n",
       "  </thead>\n",
       "  <tbody>\n",
       "    <tr>\n",
       "      <th>0</th>\n",
       "      <td>2.0</td>\n",
       "      <td>91.94897</td>\n",
       "      <td>91.706791</td>\n",
       "      <td>90.94605</td>\n",
       "      <td>91.316316</td>\n",
       "      <td>91.234438</td>\n",
       "      <td>90.569484</td>\n",
       "      <td>91.274254</td>\n",
       "      <td>91.903525</td>\n",
       "      <td>90.900799</td>\n",
       "      <td>...</td>\n",
       "      <td>90.522709</td>\n",
       "      <td>90.680466</td>\n",
       "      <td>91.222726</td>\n",
       "      <td>91.098012</td>\n",
       "      <td>90.984417</td>\n",
       "      <td>91.541935</td>\n",
       "      <td>91.956749</td>\n",
       "      <td>91.799184</td>\n",
       "      <td>90.407954</td>\n",
       "      <td>91.608806</td>\n",
       "    </tr>\n",
       "    <tr>\n",
       "      <th>1</th>\n",
       "      <td>NaN</td>\n",
       "      <td>91.94897</td>\n",
       "      <td>91.706791</td>\n",
       "      <td>90.94605</td>\n",
       "      <td>91.316316</td>\n",
       "      <td>91.234438</td>\n",
       "      <td>90.569484</td>\n",
       "      <td>91.274254</td>\n",
       "      <td>91.903525</td>\n",
       "      <td>90.900799</td>\n",
       "      <td>...</td>\n",
       "      <td>NaN</td>\n",
       "      <td>NaN</td>\n",
       "      <td>NaN</td>\n",
       "      <td>NaN</td>\n",
       "      <td>NaN</td>\n",
       "      <td>NaN</td>\n",
       "      <td>NaN</td>\n",
       "      <td>NaN</td>\n",
       "      <td>NaN</td>\n",
       "      <td>NaN</td>\n",
       "    </tr>\n",
       "    <tr>\n",
       "      <th>2</th>\n",
       "      <td>NaN</td>\n",
       "      <td>91.94897</td>\n",
       "      <td>91.706791</td>\n",
       "      <td>90.94605</td>\n",
       "      <td>91.316316</td>\n",
       "      <td>91.234438</td>\n",
       "      <td>90.569484</td>\n",
       "      <td>91.274254</td>\n",
       "      <td>91.903525</td>\n",
       "      <td>90.900799</td>\n",
       "      <td>...</td>\n",
       "      <td>NaN</td>\n",
       "      <td>NaN</td>\n",
       "      <td>NaN</td>\n",
       "      <td>NaN</td>\n",
       "      <td>NaN</td>\n",
       "      <td>NaN</td>\n",
       "      <td>NaN</td>\n",
       "      <td>NaN</td>\n",
       "      <td>NaN</td>\n",
       "      <td>NaN</td>\n",
       "    </tr>\n",
       "  </tbody>\n",
       "</table>\n",
       "<p>3 rows × 2305 columns</p>\n",
       "</div>"
      ],
      "text/plain": [
       "   Z (nm)         1          2         3          4          5          6  \\\n",
       "0     2.0  91.94897  91.706791  90.94605  91.316316  91.234438  90.569484   \n",
       "1     NaN  91.94897  91.706791  90.94605  91.316316  91.234438  90.569484   \n",
       "2     NaN  91.94897  91.706791  90.94605  91.316316  91.234438  90.569484   \n",
       "\n",
       "           7          8          9    ...           2295       2296  \\\n",
       "0  91.274254  91.903525  90.900799    ...      90.522709  90.680466   \n",
       "1  91.274254  91.903525  90.900799    ...            NaN        NaN   \n",
       "2  91.274254  91.903525  90.900799    ...            NaN        NaN   \n",
       "\n",
       "        2297       2298       2299       2300       2301       2302  \\\n",
       "0  91.222726  91.098012  90.984417  91.541935  91.956749  91.799184   \n",
       "1        NaN        NaN        NaN        NaN        NaN        NaN   \n",
       "2        NaN        NaN        NaN        NaN        NaN        NaN   \n",
       "\n",
       "        2303       2304  \n",
       "0  90.407954  91.608806  \n",
       "1        NaN        NaN  \n",
       "2        NaN        NaN  \n",
       "\n",
       "[3 rows x 2305 columns]"
      ]
     },
     "execution_count": 195,
     "metadata": {},
     "output_type": "execute_result"
    }
   ],
   "source": [
    "new_df2"
   ]
  },
  {
   "cell_type": "code",
   "execution_count": 200,
   "metadata": {},
   "outputs": [],
   "source": [
    "new_df2['Z (nm)'] = new_df2['Z (nm)'].iloc[0]"
   ]
  },
  {
   "cell_type": "code",
   "execution_count": 201,
   "metadata": {},
   "outputs": [
    {
     "data": {
      "text/html": [
       "<div>\n",
       "<style scoped>\n",
       "    .dataframe tbody tr th:only-of-type {\n",
       "        vertical-align: middle;\n",
       "    }\n",
       "\n",
       "    .dataframe tbody tr th {\n",
       "        vertical-align: top;\n",
       "    }\n",
       "\n",
       "    .dataframe thead th {\n",
       "        text-align: right;\n",
       "    }\n",
       "</style>\n",
       "<table border=\"1\" class=\"dataframe\">\n",
       "  <thead>\n",
       "    <tr style=\"text-align: right;\">\n",
       "      <th></th>\n",
       "      <th>Z (nm)</th>\n",
       "      <th>1</th>\n",
       "      <th>2</th>\n",
       "      <th>3</th>\n",
       "      <th>4</th>\n",
       "      <th>5</th>\n",
       "      <th>6</th>\n",
       "      <th>7</th>\n",
       "      <th>8</th>\n",
       "      <th>9</th>\n",
       "      <th>...</th>\n",
       "      <th>2295</th>\n",
       "      <th>2296</th>\n",
       "      <th>2297</th>\n",
       "      <th>2298</th>\n",
       "      <th>2299</th>\n",
       "      <th>2300</th>\n",
       "      <th>2301</th>\n",
       "      <th>2302</th>\n",
       "      <th>2303</th>\n",
       "      <th>2304</th>\n",
       "    </tr>\n",
       "  </thead>\n",
       "  <tbody>\n",
       "    <tr>\n",
       "      <th>0</th>\n",
       "      <td>2.0</td>\n",
       "      <td>91.94897</td>\n",
       "      <td>91.706791</td>\n",
       "      <td>90.94605</td>\n",
       "      <td>91.316316</td>\n",
       "      <td>91.234438</td>\n",
       "      <td>90.569484</td>\n",
       "      <td>91.274254</td>\n",
       "      <td>91.903525</td>\n",
       "      <td>90.900799</td>\n",
       "      <td>...</td>\n",
       "      <td>90.522709</td>\n",
       "      <td>90.680466</td>\n",
       "      <td>91.222726</td>\n",
       "      <td>91.098012</td>\n",
       "      <td>90.984417</td>\n",
       "      <td>91.541935</td>\n",
       "      <td>91.956749</td>\n",
       "      <td>91.799184</td>\n",
       "      <td>90.407954</td>\n",
       "      <td>91.608806</td>\n",
       "    </tr>\n",
       "    <tr>\n",
       "      <th>1</th>\n",
       "      <td>2.0</td>\n",
       "      <td>91.94897</td>\n",
       "      <td>91.706791</td>\n",
       "      <td>90.94605</td>\n",
       "      <td>91.316316</td>\n",
       "      <td>91.234438</td>\n",
       "      <td>90.569484</td>\n",
       "      <td>91.274254</td>\n",
       "      <td>91.903525</td>\n",
       "      <td>90.900799</td>\n",
       "      <td>...</td>\n",
       "      <td>NaN</td>\n",
       "      <td>NaN</td>\n",
       "      <td>NaN</td>\n",
       "      <td>NaN</td>\n",
       "      <td>NaN</td>\n",
       "      <td>NaN</td>\n",
       "      <td>NaN</td>\n",
       "      <td>NaN</td>\n",
       "      <td>NaN</td>\n",
       "      <td>NaN</td>\n",
       "    </tr>\n",
       "    <tr>\n",
       "      <th>2</th>\n",
       "      <td>2.0</td>\n",
       "      <td>91.94897</td>\n",
       "      <td>91.706791</td>\n",
       "      <td>90.94605</td>\n",
       "      <td>91.316316</td>\n",
       "      <td>91.234438</td>\n",
       "      <td>90.569484</td>\n",
       "      <td>91.274254</td>\n",
       "      <td>91.903525</td>\n",
       "      <td>90.900799</td>\n",
       "      <td>...</td>\n",
       "      <td>NaN</td>\n",
       "      <td>NaN</td>\n",
       "      <td>NaN</td>\n",
       "      <td>NaN</td>\n",
       "      <td>NaN</td>\n",
       "      <td>NaN</td>\n",
       "      <td>NaN</td>\n",
       "      <td>NaN</td>\n",
       "      <td>NaN</td>\n",
       "      <td>NaN</td>\n",
       "    </tr>\n",
       "  </tbody>\n",
       "</table>\n",
       "<p>3 rows × 2305 columns</p>\n",
       "</div>"
      ],
      "text/plain": [
       "   Z (nm)         1          2         3          4          5          6  \\\n",
       "0     2.0  91.94897  91.706791  90.94605  91.316316  91.234438  90.569484   \n",
       "1     2.0  91.94897  91.706791  90.94605  91.316316  91.234438  90.569484   \n",
       "2     2.0  91.94897  91.706791  90.94605  91.316316  91.234438  90.569484   \n",
       "\n",
       "           7          8          9    ...           2295       2296  \\\n",
       "0  91.274254  91.903525  90.900799    ...      90.522709  90.680466   \n",
       "1  91.274254  91.903525  90.900799    ...            NaN        NaN   \n",
       "2  91.274254  91.903525  90.900799    ...            NaN        NaN   \n",
       "\n",
       "        2297       2298       2299       2300       2301       2302  \\\n",
       "0  91.222726  91.098012  90.984417  91.541935  91.956749  91.799184   \n",
       "1        NaN        NaN        NaN        NaN        NaN        NaN   \n",
       "2        NaN        NaN        NaN        NaN        NaN        NaN   \n",
       "\n",
       "        2303       2304  \n",
       "0  90.407954  91.608806  \n",
       "1        NaN        NaN  \n",
       "2        NaN        NaN  \n",
       "\n",
       "[3 rows x 2305 columns]"
      ]
     },
     "execution_count": 201,
     "metadata": {},
     "output_type": "execute_result"
    }
   ],
   "source": [
    "new_df2.head()"
   ]
  },
  {
   "cell_type": "code",
   "execution_count": 9,
   "metadata": {},
   "outputs": [],
   "source": [
    "%matplotlib inline"
   ]
  },
  {
   "cell_type": "code",
   "execution_count": 10,
   "metadata": {},
   "outputs": [],
   "source": [
    "##%matplotlib notebook if I want graphs to be interactive."
   ]
  },
  {
   "cell_type": "code",
   "execution_count": 166,
   "metadata": {},
   "outputs": [],
   "source": [
    "from mpl_toolkits.mplot3d import Axes3D\n",
    "import matplotlib.pyplot as plt\n",
    "from matplotlib import cm\n",
    "from matplotlib.ticker import LinearLocator"
   ]
  },
  {
   "cell_type": "code",
   "execution_count": 167,
   "metadata": {},
   "outputs": [
    {
     "data": {
      "image/png": "[encoded data removed]",
      "text/plain": [
       "<matplotlib.figure.Figure at 0x104d08f28>"
      ]
     },
     "metadata": {},
     "output_type": "display_data"
    }
   ],
   "source": [
    "fig = plt.figure()\n",
    "ax = fig.gca(projection='3d')"
   ]
  },
  {
   "cell_type": "code",
   "execution_count": 11,
   "metadata": {},
   "outputs": [],
   "source": [
    "approach = data[:502]"
   ]
  },
  {
   "cell_type": "code",
   "execution_count": 12,
   "metadata": {},
   "outputs": [],
   "source": [
    "approach = approach.drop(['Z (nm)'], axis=1)"
   ]
  },
  {
   "cell_type": "code",
   "execution_count": 13,
   "metadata": {},
   "outputs": [
    {
     "data": {
      "text/html": [
       "<div>\n",
       "<style scoped>\n",
       "    .dataframe tbody tr th:only-of-type {\n",
       "        vertical-align: middle;\n",
       "    }\n",
       "\n",
       "    .dataframe tbody tr th {\n",
       "        vertical-align: top;\n",
       "    }\n",
       "\n",
       "    .dataframe thead th {\n",
       "        text-align: right;\n",
       "    }\n",
       "</style>\n",
       "<table border=\"1\" class=\"dataframe\">\n",
       "  <thead>\n",
       "    <tr style=\"text-align: right;\">\n",
       "      <th></th>\n",
       "      <th>1</th>\n",
       "      <th>2</th>\n",
       "      <th>3</th>\n",
       "      <th>4</th>\n",
       "      <th>5</th>\n",
       "      <th>6</th>\n",
       "      <th>7</th>\n",
       "      <th>8</th>\n",
       "      <th>9</th>\n",
       "      <th>10</th>\n",
       "      <th>...</th>\n",
       "      <th>2295</th>\n",
       "      <th>2296</th>\n",
       "      <th>2297</th>\n",
       "      <th>2298</th>\n",
       "      <th>2299</th>\n",
       "      <th>2300</th>\n",
       "      <th>2301</th>\n",
       "      <th>2302</th>\n",
       "      <th>2303</th>\n",
       "      <th>2304</th>\n",
       "    </tr>\n",
       "  </thead>\n",
       "  <tbody>\n",
       "    <tr>\n",
       "      <th>0</th>\n",
       "      <td>91.948970</td>\n",
       "      <td>91.706791</td>\n",
       "      <td>90.946050</td>\n",
       "      <td>91.316316</td>\n",
       "      <td>91.234438</td>\n",
       "      <td>90.569484</td>\n",
       "      <td>91.274254</td>\n",
       "      <td>91.903525</td>\n",
       "      <td>90.900799</td>\n",
       "      <td>90.801991</td>\n",
       "      <td>...</td>\n",
       "      <td>90.522709</td>\n",
       "      <td>90.680466</td>\n",
       "      <td>91.222726</td>\n",
       "      <td>91.098012</td>\n",
       "      <td>90.984417</td>\n",
       "      <td>91.541935</td>\n",
       "      <td>91.956749</td>\n",
       "      <td>91.799184</td>\n",
       "      <td>90.407954</td>\n",
       "      <td>91.608806</td>\n",
       "    </tr>\n",
       "    <tr>\n",
       "      <th>1</th>\n",
       "      <td>91.823050</td>\n",
       "      <td>90.997308</td>\n",
       "      <td>90.177687</td>\n",
       "      <td>91.675193</td>\n",
       "      <td>90.210515</td>\n",
       "      <td>91.814168</td>\n",
       "      <td>90.925633</td>\n",
       "      <td>90.524117</td>\n",
       "      <td>90.770430</td>\n",
       "      <td>91.600628</td>\n",
       "      <td>...</td>\n",
       "      <td>90.111633</td>\n",
       "      <td>90.758103</td>\n",
       "      <td>91.631524</td>\n",
       "      <td>91.358850</td>\n",
       "      <td>90.075962</td>\n",
       "      <td>90.881316</td>\n",
       "      <td>91.702550</td>\n",
       "      <td>90.044096</td>\n",
       "      <td>90.646009</td>\n",
       "      <td>91.750187</td>\n",
       "    </tr>\n",
       "    <tr>\n",
       "      <th>2</th>\n",
       "      <td>91.487359</td>\n",
       "      <td>91.562371</td>\n",
       "      <td>91.494568</td>\n",
       "      <td>90.941529</td>\n",
       "      <td>90.580548</td>\n",
       "      <td>91.530404</td>\n",
       "      <td>91.258212</td>\n",
       "      <td>91.188640</td>\n",
       "      <td>90.096011</td>\n",
       "      <td>90.459150</td>\n",
       "      <td>...</td>\n",
       "      <td>91.297081</td>\n",
       "      <td>91.204475</td>\n",
       "      <td>90.777296</td>\n",
       "      <td>91.729438</td>\n",
       "      <td>90.434161</td>\n",
       "      <td>90.652615</td>\n",
       "      <td>90.270954</td>\n",
       "      <td>90.448096</td>\n",
       "      <td>90.215209</td>\n",
       "      <td>90.329863</td>\n",
       "    </tr>\n",
       "    <tr>\n",
       "      <th>3</th>\n",
       "      <td>91.521175</td>\n",
       "      <td>90.656362</td>\n",
       "      <td>90.308627</td>\n",
       "      <td>91.777453</td>\n",
       "      <td>90.433671</td>\n",
       "      <td>91.111552</td>\n",
       "      <td>90.105340</td>\n",
       "      <td>90.690464</td>\n",
       "      <td>91.960605</td>\n",
       "      <td>90.588933</td>\n",
       "      <td>...</td>\n",
       "      <td>90.034236</td>\n",
       "      <td>91.879132</td>\n",
       "      <td>91.649429</td>\n",
       "      <td>91.158372</td>\n",
       "      <td>91.333904</td>\n",
       "      <td>91.584472</td>\n",
       "      <td>91.654439</td>\n",
       "      <td>91.273196</td>\n",
       "      <td>90.205081</td>\n",
       "      <td>90.840706</td>\n",
       "    </tr>\n",
       "    <tr>\n",
       "      <th>4</th>\n",
       "      <td>91.259976</td>\n",
       "      <td>91.345418</td>\n",
       "      <td>91.886045</td>\n",
       "      <td>91.568526</td>\n",
       "      <td>90.025298</td>\n",
       "      <td>91.120202</td>\n",
       "      <td>91.775452</td>\n",
       "      <td>91.953569</td>\n",
       "      <td>90.386481</td>\n",
       "      <td>90.224210</td>\n",
       "      <td>...</td>\n",
       "      <td>90.648606</td>\n",
       "      <td>90.450429</td>\n",
       "      <td>90.310075</td>\n",
       "      <td>91.725319</td>\n",
       "      <td>91.640608</td>\n",
       "      <td>91.565779</td>\n",
       "      <td>91.672420</td>\n",
       "      <td>90.329641</td>\n",
       "      <td>91.570910</td>\n",
       "      <td>90.447380</td>\n",
       "    </tr>\n",
       "  </tbody>\n",
       "</table>\n",
       "<p>5 rows × 2304 columns</p>\n",
       "</div>"
      ],
      "text/plain": [
       "        1          2          3          4          5          6     \\\n",
       "0  91.948970  91.706791  90.946050  91.316316  91.234438  90.569484   \n",
       "1  91.823050  90.997308  90.177687  91.675193  90.210515  91.814168   \n",
       "2  91.487359  91.562371  91.494568  90.941529  90.580548  91.530404   \n",
       "3  91.521175  90.656362  90.308627  91.777453  90.433671  91.111552   \n",
       "4  91.259976  91.345418  91.886045  91.568526  90.025298  91.120202   \n",
       "\n",
       "        7          8          9          10      ...           2295  \\\n",
       "0  91.274254  91.903525  90.900799  90.801991    ...      90.522709   \n",
       "1  90.925633  90.524117  90.770430  91.600628    ...      90.111633   \n",
       "2  91.258212  91.188640  90.096011  90.459150    ...      91.297081   \n",
       "3  90.105340  90.690464  91.960605  90.588933    ...      90.034236   \n",
       "4  91.775452  91.953569  90.386481  90.224210    ...      90.648606   \n",
       "\n",
       "        2296       2297       2298       2299       2300       2301  \\\n",
       "0  90.680466  91.222726  91.098012  90.984417  91.541935  91.956749   \n",
       "1  90.758103  91.631524  91.358850  90.075962  90.881316  91.702550   \n",
       "2  91.204475  90.777296  91.729438  90.434161  90.652615  90.270954   \n",
       "3  91.879132  91.649429  91.158372  91.333904  91.584472  91.654439   \n",
       "4  90.450429  90.310075  91.725319  91.640608  91.565779  91.672420   \n",
       "\n",
       "        2302       2303       2304  \n",
       "0  91.799184  90.407954  91.608806  \n",
       "1  90.044096  90.646009  91.750187  \n",
       "2  90.448096  90.215209  90.329863  \n",
       "3  91.273196  90.205081  90.840706  \n",
       "4  90.329641  91.570910  90.447380  \n",
       "\n",
       "[5 rows x 2304 columns]"
      ]
     },
     "execution_count": 13,
     "metadata": {},
     "output_type": "execute_result"
    }
   ],
   "source": [
    "approach.head()"
   ]
  },
  {
   "cell_type": "code",
   "execution_count": 14,
   "metadata": {},
   "outputs": [],
   "source": [
    "retract = data[-499:]"
   ]
  },
  {
   "cell_type": "code",
   "execution_count": 15,
   "metadata": {},
   "outputs": [],
   "source": [
    "retract = retract.drop(['Z (nm)'], axis=1)"
   ]
  },
  {
   "cell_type": "code",
   "execution_count": 16,
   "metadata": {},
   "outputs": [],
   "source": [
    "approach_as_numpy = approach.as_matrix(columns=None)"
   ]
  },
  {
   "cell_type": "code",
   "execution_count": 17,
   "metadata": {},
   "outputs": [],
   "source": [
    "retract_as_numpy = retract.as_matrix(columns=None)"
   ]
  },
  {
   "cell_type": "code",
   "execution_count": 18,
   "metadata": {},
   "outputs": [],
   "source": [
    "z_values = data['Z (nm)']"
   ]
  },
  {
   "cell_type": "code",
   "execution_count": 19,
   "metadata": {},
   "outputs": [],
   "source": [
    "z_values_approach = z_values[:502]"
   ]
  },
  {
   "cell_type": "code",
   "execution_count": 20,
   "metadata": {},
   "outputs": [],
   "source": [
    "z_values_retract = z_values[-499:]"
   ]
  },
  {
   "cell_type": "code",
   "execution_count": 21,
   "metadata": {},
   "outputs": [],
   "source": [
    "z_values_approach_as_numpy = z_values_approach.as_matrix(columns=None)"
   ]
  },
  {
   "cell_type": "code",
   "execution_count": 22,
   "metadata": {},
   "outputs": [],
   "source": [
    "z_values_retract_as_numpy = z_values_retract.as_matrix(columns=None)"
   ]
  },
  {
   "cell_type": "code",
   "execution_count": 23,
   "metadata": {},
   "outputs": [],
   "source": [
    "approach_as_numpy_reshape = np.array(approach_as_numpy.tolist())"
   ]
  },
  {
   "cell_type": "code",
   "execution_count": 31,
   "metadata": {},
   "outputs": [
    {
     "data": {
      "text/plain": [
       "(502, 48, 48)"
      ]
     },
     "execution_count": 31,
     "metadata": {},
     "output_type": "execute_result"
    }
   ],
   "source": [
    "X.shape"
   ]
  },
  {
   "cell_type": "code",
   "execution_count": 32,
   "metadata": {},
   "outputs": [
    {
     "data": {
      "text/plain": [
       "(502, 48, 48)"
      ]
     },
     "execution_count": 32,
     "metadata": {},
     "output_type": "execute_result"
    }
   ],
   "source": [
    "c.shape"
   ]
  },
  {
   "cell_type": "code",
   "execution_count": 33,
   "metadata": {},
   "outputs": [
    {
     "data": {
      "text/plain": [
       "(502, 2304)"
      ]
     },
     "execution_count": 33,
     "metadata": {},
     "output_type": "execute_result"
    }
   ],
   "source": [
    "approach_as_numpy.shape"
   ]
  },
  {
   "cell_type": "code",
   "execution_count": 30,
   "metadata": {},
   "outputs": [],
   "source": [
    "x = np.linspace(0,48,48)\n",
    "y = np.linspace(0,48,48)\n",
    "z = z_values_approach_as_numpy\n",
    "c = approach_as_numpy_reshape1\n",
    "\n",
    "X, Z, Y = np.meshgrid(x, z, y)"
   ]
  },
  {
   "cell_type": "code",
   "execution_count": 43,
   "metadata": {},
   "outputs": [
    {
     "data": {
      "text/plain": [
       "(502, 2304)"
      ]
     },
     "execution_count": 43,
     "metadata": {},
     "output_type": "execute_result"
    }
   ],
   "source": [
    "approach_as_numpy_reshape.shape"
   ]
  },
  {
   "cell_type": "code",
   "execution_count": 34,
   "metadata": {},
   "outputs": [],
   "source": [
    "# domains\n",
    "x = np.linspace(0,48,48) \n",
    "y = np.linspace(0,48,48)             # [6, 9]\n",
    "z = z_values_approach_as_numpy            # [-1, 1]\n",
    "\n",
    "# convert to 2d matrices\n",
    "Z = np.outer(z.T, z)"
   ]
  },
  {
   "cell_type": "code",
   "execution_count": 54,
   "metadata": {},
   "outputs": [
    {
     "ename": "AttributeError",
     "evalue": "'ScalarMappable' object has no attribute 'to_rgba_array'",
     "output_type": "error",
     "traceback": [
      "\u001b[0;31m---------------------------------------------------------------------------\u001b[0m",
      "\u001b[0;31mAttributeError\u001b[0m                            Traceback (most recent call last)",
      "\u001b[0;32m<ipython-input-54-9931a2a12918>\u001b[0m in \u001b[0;36m<module>\u001b[0;34m()\u001b[0m\n\u001b[1;32m     22\u001b[0m \u001b[0mm\u001b[0m \u001b[0;34m=\u001b[0m \u001b[0mplt\u001b[0m\u001b[0;34m.\u001b[0m\u001b[0mcm\u001b[0m\u001b[0;34m.\u001b[0m\u001b[0mScalarMappable\u001b[0m\u001b[0;34m(\u001b[0m\u001b[0mnorm\u001b[0m\u001b[0;34m=\u001b[0m\u001b[0mnorm\u001b[0m\u001b[0;34m,\u001b[0m \u001b[0mcmap\u001b[0m\u001b[0;34m=\u001b[0m\u001b[0;34m'jet'\u001b[0m\u001b[0;34m)\u001b[0m\u001b[0;34m\u001b[0m\u001b[0m\n\u001b[1;32m     23\u001b[0m \u001b[0mm\u001b[0m\u001b[0;34m.\u001b[0m\u001b[0mset_array\u001b[0m\u001b[0;34m(\u001b[0m\u001b[0;34m[\u001b[0m\u001b[0;34m]\u001b[0m\u001b[0;34m)\u001b[0m\u001b[0;34m\u001b[0m\u001b[0m\n\u001b[0;32m---> 24\u001b[0;31m \u001b[0mfcolors\u001b[0m \u001b[0;34m=\u001b[0m \u001b[0mm\u001b[0m\u001b[0;34m.\u001b[0m\u001b[0mto_rgba_array\u001b[0m\u001b[0;34m(\u001b[0m\u001b[0mcolor_dimension\u001b[0m\u001b[0;34m)\u001b[0m\u001b[0;34m\u001b[0m\u001b[0m\n\u001b[0m\u001b[1;32m     25\u001b[0m \u001b[0;34m\u001b[0m\u001b[0m\n\u001b[1;32m     26\u001b[0m \u001b[0;31m# plot\u001b[0m\u001b[0;34m\u001b[0m\u001b[0;34m\u001b[0m\u001b[0m\n",
      "\u001b[0;31mAttributeError\u001b[0m: 'ScalarMappable' object has no attribute 'to_rgba_array'"
     ]
    }
   ],
   "source": [
    "# domains\n",
    "x = np.logspace(-1.,np.log10(5),50) # [0.1, 5]\n",
    "y = np.linspace(6,9,50)             # [6, 9]\n",
    "z = np.linspace(-1,1,50)            # [-1, 1]\n",
    "\n",
    "# convert to 2d matrices\n",
    "Z = np.outer(z.T, z)        # 50x50\n",
    "X, Y = np.meshgrid(x, y)    # 50x50\n",
    "\n",
    "x = np.linspace(0,48,48)\n",
    "y = np.linspace(0,48,48)\n",
    "z = z_values_approach_as_numpy\n",
    "c = approach_as_numpy_reshape1\n",
    "\n",
    "X, Z, Y = np.meshgrid(x, z, y)\n",
    "\n",
    "# fourth dimention - colormap\n",
    "# create colormap according to x-value (can use any 50x50 array)\n",
    "color_dimension = approach_as_numpy_reshape1 # change to desired fourth dimension\n",
    "minn, maxx = color_dimension.min(), color_dimension.max()\n",
    "norm = matplotlib.colors.Normalize(minn, maxx)\n",
    "m = plt.cm.ScalarMappable(norm=norm, cmap='jet')\n",
    "m.set_array([])\n",
    "fcolors = m.to_rgba_array(color_dimension)\n",
    "\n",
    "# plot\n",
    "fig = plt.figure()\n",
    "ax = fig.gca(projection='3d')\n",
    "ax.plot_surface(X,Y,Z, rstride=1, cstride=1, facecolors=fcolors, vmin=minn, vmax=maxx, shade=False)\n",
    "ax.set_xlabel('x')\n",
    "ax.set_ylabel('y')\n",
    "ax.set_zlabel('z')\n",
    "fig.canvas.show()"
   ]
  },
  {
   "cell_type": "code",
   "execution_count": 237,
   "metadata": {
    "scrolled": true
   },
   "outputs": [
    {
     "ename": "ValueError",
     "evalue": "c of shape (502, 48, 48) not acceptable as a color sequence for x with size 1156608, y with size 1156608",
     "output_type": "error",
     "traceback": [
      "\u001b[0;31m---------------------------------------------------------------------------\u001b[0m",
      "\u001b[0;31mTypeError\u001b[0m                                 Traceback (most recent call last)",
      "\u001b[0;32m~/miniconda3/lib/python3.6/site-packages/matplotlib/colors.py\u001b[0m in \u001b[0;36mto_rgba\u001b[0;34m(c, alpha)\u001b[0m\n\u001b[1;32m    131\u001b[0m     \u001b[0;32mtry\u001b[0m\u001b[0;34m:\u001b[0m\u001b[0;34m\u001b[0m\u001b[0m\n\u001b[0;32m--> 132\u001b[0;31m         \u001b[0mrgba\u001b[0m \u001b[0;34m=\u001b[0m \u001b[0m_colors_full_map\u001b[0m\u001b[0;34m.\u001b[0m\u001b[0mcache\u001b[0m\u001b[0;34m[\u001b[0m\u001b[0mc\u001b[0m\u001b[0;34m,\u001b[0m \u001b[0malpha\u001b[0m\u001b[0;34m]\u001b[0m\u001b[0;34m\u001b[0m\u001b[0m\n\u001b[0m\u001b[1;32m    133\u001b[0m     \u001b[0;32mexcept\u001b[0m \u001b[0;34m(\u001b[0m\u001b[0mKeyError\u001b[0m\u001b[0;34m,\u001b[0m \u001b[0mTypeError\u001b[0m\u001b[0;34m)\u001b[0m\u001b[0;34m:\u001b[0m  \u001b[0;31m# Not in cache, or unhashable.\u001b[0m\u001b[0;34m\u001b[0m\u001b[0m\n",
      "\u001b[0;31mTypeError\u001b[0m: unhashable type: 'numpy.ndarray'",
      "\nDuring handling of the above exception, another exception occurred:\n",
      "\u001b[0;31mValueError\u001b[0m                                Traceback (most recent call last)",
      "\u001b[0;32m~/miniconda3/lib/python3.6/site-packages/matplotlib/axes/_axes.py\u001b[0m in \u001b[0;36mscatter\u001b[0;34m(self, x, y, s, c, marker, cmap, norm, vmin, vmax, alpha, linewidths, verts, edgecolors, **kwargs)\u001b[0m\n\u001b[1;32m   3985\u001b[0m                 \u001b[0;31m# must be acceptable as PathCollection facecolors\u001b[0m\u001b[0;34m\u001b[0m\u001b[0;34m\u001b[0m\u001b[0m\n\u001b[0;32m-> 3986\u001b[0;31m                 \u001b[0mcolors\u001b[0m \u001b[0;34m=\u001b[0m \u001b[0mmcolors\u001b[0m\u001b[0;34m.\u001b[0m\u001b[0mto_rgba_array\u001b[0m\u001b[0;34m(\u001b[0m\u001b[0mc\u001b[0m\u001b[0;34m)\u001b[0m\u001b[0;34m\u001b[0m\u001b[0m\n\u001b[0m\u001b[1;32m   3987\u001b[0m             \u001b[0;32mexcept\u001b[0m \u001b[0mValueError\u001b[0m\u001b[0;34m:\u001b[0m\u001b[0;34m\u001b[0m\u001b[0m\n",
      "\u001b[0;32m~/miniconda3/lib/python3.6/site-packages/matplotlib/colors.py\u001b[0m in \u001b[0;36mto_rgba_array\u001b[0;34m(c, alpha)\u001b[0m\n\u001b[1;32m    232\u001b[0m     \u001b[0;32mfor\u001b[0m \u001b[0mi\u001b[0m\u001b[0;34m,\u001b[0m \u001b[0mcc\u001b[0m \u001b[0;32min\u001b[0m \u001b[0menumerate\u001b[0m\u001b[0;34m(\u001b[0m\u001b[0mc\u001b[0m\u001b[0;34m)\u001b[0m\u001b[0;34m:\u001b[0m\u001b[0;34m\u001b[0m\u001b[0m\n\u001b[0;32m--> 233\u001b[0;31m         \u001b[0mresult\u001b[0m\u001b[0;34m[\u001b[0m\u001b[0mi\u001b[0m\u001b[0;34m]\u001b[0m \u001b[0;34m=\u001b[0m \u001b[0mto_rgba\u001b[0m\u001b[0;34m(\u001b[0m\u001b[0mcc\u001b[0m\u001b[0;34m,\u001b[0m \u001b[0malpha\u001b[0m\u001b[0;34m)\u001b[0m\u001b[0;34m\u001b[0m\u001b[0m\n\u001b[0m\u001b[1;32m    234\u001b[0m     \u001b[0;32mreturn\u001b[0m \u001b[0mresult\u001b[0m\u001b[0;34m\u001b[0m\u001b[0m\n",
      "\u001b[0;32m~/miniconda3/lib/python3.6/site-packages/matplotlib/colors.py\u001b[0m in \u001b[0;36mto_rgba\u001b[0;34m(c, alpha)\u001b[0m\n\u001b[1;32m    133\u001b[0m     \u001b[0;32mexcept\u001b[0m \u001b[0;34m(\u001b[0m\u001b[0mKeyError\u001b[0m\u001b[0;34m,\u001b[0m \u001b[0mTypeError\u001b[0m\u001b[0;34m)\u001b[0m\u001b[0;34m:\u001b[0m  \u001b[0;31m# Not in cache, or unhashable.\u001b[0m\u001b[0;34m\u001b[0m\u001b[0m\n\u001b[0;32m--> 134\u001b[0;31m         \u001b[0mrgba\u001b[0m \u001b[0;34m=\u001b[0m \u001b[0m_to_rgba_no_colorcycle\u001b[0m\u001b[0;34m(\u001b[0m\u001b[0mc\u001b[0m\u001b[0;34m,\u001b[0m \u001b[0malpha\u001b[0m\u001b[0;34m)\u001b[0m\u001b[0;34m\u001b[0m\u001b[0m\n\u001b[0m\u001b[1;32m    135\u001b[0m         \u001b[0;32mtry\u001b[0m\u001b[0;34m:\u001b[0m\u001b[0;34m\u001b[0m\u001b[0m\n",
      "\u001b[0;32m~/miniconda3/lib/python3.6/site-packages/matplotlib/colors.py\u001b[0m in \u001b[0;36m_to_rgba_no_colorcycle\u001b[0;34m(c, alpha)\u001b[0m\n\u001b[1;32m    184\u001b[0m         \u001b[0;31m# Test dimensionality to reject single floats.\u001b[0m\u001b[0;34m\u001b[0m\u001b[0;34m\u001b[0m\u001b[0m\n\u001b[0;32m--> 185\u001b[0;31m         \u001b[0;32mraise\u001b[0m \u001b[0mValueError\u001b[0m\u001b[0;34m(\u001b[0m\u001b[0;34m\"Invalid RGBA argument: {!r}\"\u001b[0m\u001b[0;34m.\u001b[0m\u001b[0mformat\u001b[0m\u001b[0;34m(\u001b[0m\u001b[0morig_c\u001b[0m\u001b[0;34m)\u001b[0m\u001b[0;34m)\u001b[0m\u001b[0;34m\u001b[0m\u001b[0m\n\u001b[0m\u001b[1;32m    186\u001b[0m     \u001b[0;31m# Return a tuple to prevent the cached value from being modified.\u001b[0m\u001b[0;34m\u001b[0m\u001b[0;34m\u001b[0m\u001b[0m\n",
      "\u001b[0;31mValueError\u001b[0m: Invalid RGBA argument: array([[91.94897021, 91.70679065, 90.94604959, ..., 91.93393794,\n        91.42359345, 91.74046486],\n       [90.03918674, 90.68860081, 91.70098479, ..., 91.45822202,\n        91.70842044, 91.34248738],\n       [91.73006559, 91.94411031, 90.21072438, ..., 90.17966128,\n        91.71848386, 91.84138877],\n       ...,\n       [91.21734413, 91.08506676, 90.58701426, ..., 90.53862373,\n        90.08494138, 91.85133174],\n       [91.95377399, 91.99926718, 91.71209129, ..., 90.68655417,\n        90.90733144, 90.71482419],\n       [91.51978766, 90.58820834, 90.71813799, ..., 91.79918429,\n        90.40795399, 91.60880612]])",
      "\nDuring handling of the above exception, another exception occurred:\n",
      "\u001b[0;31mValueError\u001b[0m                                Traceback (most recent call last)",
      "\u001b[0;32m<ipython-input-237-8efda4b04b56>\u001b[0m in \u001b[0;36m<module>\u001b[0;34m()\u001b[0m\n\u001b[1;32m      8\u001b[0m \u001b[0mfig\u001b[0m \u001b[0;34m=\u001b[0m \u001b[0mplt\u001b[0m\u001b[0;34m.\u001b[0m\u001b[0mfigure\u001b[0m\u001b[0;34m(\u001b[0m\u001b[0mfigsize\u001b[0m\u001b[0;34m=\u001b[0m\u001b[0;34m(\u001b[0m\u001b[0;36m12\u001b[0m\u001b[0;34m,\u001b[0m \u001b[0;36m8\u001b[0m\u001b[0;34m)\u001b[0m\u001b[0;34m)\u001b[0m\u001b[0;34m\u001b[0m\u001b[0m\n\u001b[1;32m      9\u001b[0m \u001b[0max\u001b[0m \u001b[0;34m=\u001b[0m \u001b[0mfig\u001b[0m\u001b[0;34m.\u001b[0m\u001b[0madd_subplot\u001b[0m\u001b[0;34m(\u001b[0m\u001b[0;36m111\u001b[0m\u001b[0;34m,\u001b[0m \u001b[0mprojection\u001b[0m\u001b[0;34m=\u001b[0m\u001b[0;34m'3d'\u001b[0m\u001b[0;34m)\u001b[0m\u001b[0;34m\u001b[0m\u001b[0m\n\u001b[0;32m---> 10\u001b[0;31m \u001b[0max\u001b[0m\u001b[0;34m.\u001b[0m\u001b[0mscatter\u001b[0m\u001b[0;34m(\u001b[0m\u001b[0mX\u001b[0m\u001b[0;34m,\u001b[0m \u001b[0mY\u001b[0m\u001b[0;34m,\u001b[0m \u001b[0mZ\u001b[0m\u001b[0;34m,\u001b[0m \u001b[0mc\u001b[0m \u001b[0;34m=\u001b[0m \u001b[0mc\u001b[0m\u001b[0;34m,\u001b[0m \u001b[0malpha\u001b[0m\u001b[0;34m=\u001b[0m\u001b[0;36m0.5\u001b[0m\u001b[0;34m)\u001b[0m\u001b[0;34m\u001b[0m\u001b[0m\n\u001b[0m\u001b[1;32m     11\u001b[0m \u001b[0mplt\u001b[0m\u001b[0;34m.\u001b[0m\u001b[0mshow\u001b[0m\u001b[0;34m(\u001b[0m\u001b[0;34m)\u001b[0m\u001b[0;34m\u001b[0m\u001b[0m\n",
      "\u001b[0;32m~/miniconda3/lib/python3.6/site-packages/mpl_toolkits/mplot3d/axes3d.py\u001b[0m in \u001b[0;36mscatter\u001b[0;34m(self, xs, ys, zs, zdir, s, c, depthshade, *args, **kwargs)\u001b[0m\n\u001b[1;32m   2363\u001b[0m \u001b[0;34m\u001b[0m\u001b[0m\n\u001b[1;32m   2364\u001b[0m         patches = super(Axes3D, self).scatter(\n\u001b[0;32m-> 2365\u001b[0;31m             xs, ys, s=s, c=c, *args, **kwargs)\n\u001b[0m\u001b[1;32m   2366\u001b[0m         \u001b[0mis_2d\u001b[0m \u001b[0;34m=\u001b[0m \u001b[0;32mnot\u001b[0m \u001b[0mcbook\u001b[0m\u001b[0;34m.\u001b[0m\u001b[0miterable\u001b[0m\u001b[0;34m(\u001b[0m\u001b[0mzs\u001b[0m\u001b[0;34m)\u001b[0m\u001b[0;34m\u001b[0m\u001b[0m\n\u001b[1;32m   2367\u001b[0m         \u001b[0mzs\u001b[0m \u001b[0;34m=\u001b[0m \u001b[0m_backports\u001b[0m\u001b[0;34m.\u001b[0m\u001b[0mbroadcast_to\u001b[0m\u001b[0;34m(\u001b[0m\u001b[0mzs\u001b[0m\u001b[0;34m,\u001b[0m \u001b[0mlen\u001b[0m\u001b[0;34m(\u001b[0m\u001b[0mxs\u001b[0m\u001b[0;34m)\u001b[0m\u001b[0;34m)\u001b[0m\u001b[0;34m\u001b[0m\u001b[0m\n",
      "\u001b[0;32m~/miniconda3/lib/python3.6/site-packages/matplotlib/__init__.py\u001b[0m in \u001b[0;36minner\u001b[0;34m(ax, *args, **kwargs)\u001b[0m\n\u001b[1;32m   1715\u001b[0m                     warnings.warn(msg % (label_namer, func.__name__),\n\u001b[1;32m   1716\u001b[0m                                   RuntimeWarning, stacklevel=2)\n\u001b[0;32m-> 1717\u001b[0;31m             \u001b[0;32mreturn\u001b[0m \u001b[0mfunc\u001b[0m\u001b[0;34m(\u001b[0m\u001b[0max\u001b[0m\u001b[0;34m,\u001b[0m \u001b[0;34m*\u001b[0m\u001b[0margs\u001b[0m\u001b[0;34m,\u001b[0m \u001b[0;34m**\u001b[0m\u001b[0mkwargs\u001b[0m\u001b[0;34m)\u001b[0m\u001b[0;34m\u001b[0m\u001b[0m\n\u001b[0m\u001b[1;32m   1718\u001b[0m         \u001b[0mpre_doc\u001b[0m \u001b[0;34m=\u001b[0m \u001b[0minner\u001b[0m\u001b[0;34m.\u001b[0m\u001b[0m__doc__\u001b[0m\u001b[0;34m\u001b[0m\u001b[0m\n\u001b[1;32m   1719\u001b[0m         \u001b[0;32mif\u001b[0m \u001b[0mpre_doc\u001b[0m \u001b[0;32mis\u001b[0m \u001b[0;32mNone\u001b[0m\u001b[0;34m:\u001b[0m\u001b[0;34m\u001b[0m\u001b[0m\n",
      "\u001b[0;32m~/miniconda3/lib/python3.6/site-packages/matplotlib/axes/_axes.py\u001b[0m in \u001b[0;36mscatter\u001b[0;34m(self, x, y, s, c, marker, cmap, norm, vmin, vmax, alpha, linewidths, verts, edgecolors, **kwargs)\u001b[0m\n\u001b[1;32m   3989\u001b[0m                 msg = (\"c of shape {0} not acceptable as a color sequence \"\n\u001b[1;32m   3990\u001b[0m                        \"for x with size {1}, y with size {2}\")\n\u001b[0;32m-> 3991\u001b[0;31m                 \u001b[0;32mraise\u001b[0m \u001b[0mValueError\u001b[0m\u001b[0;34m(\u001b[0m\u001b[0mmsg\u001b[0m\u001b[0;34m.\u001b[0m\u001b[0mformat\u001b[0m\u001b[0;34m(\u001b[0m\u001b[0mc\u001b[0m\u001b[0;34m.\u001b[0m\u001b[0mshape\u001b[0m\u001b[0;34m,\u001b[0m \u001b[0mx\u001b[0m\u001b[0;34m.\u001b[0m\u001b[0msize\u001b[0m\u001b[0;34m,\u001b[0m \u001b[0my\u001b[0m\u001b[0;34m.\u001b[0m\u001b[0msize\u001b[0m\u001b[0;34m)\u001b[0m\u001b[0;34m)\u001b[0m\u001b[0;34m\u001b[0m\u001b[0m\n\u001b[0m\u001b[1;32m   3992\u001b[0m         \u001b[0;32melse\u001b[0m\u001b[0;34m:\u001b[0m\u001b[0;34m\u001b[0m\u001b[0m\n\u001b[1;32m   3993\u001b[0m             \u001b[0mcolors\u001b[0m \u001b[0;34m=\u001b[0m \u001b[0;32mNone\u001b[0m  \u001b[0;31m# use cmap, norm after collection is created\u001b[0m\u001b[0;34m\u001b[0m\u001b[0m\n",
      "\u001b[0;31mValueError\u001b[0m: c of shape (502, 48, 48) not acceptable as a color sequence for x with size 1156608, y with size 1156608"
     ]
    },
    {
     "data": {
      "image/png": "[encoded data removed]",
      "text/plain": [
       "<matplotlib.figure.Figure at 0x122b97048>"
      ]
     },
     "metadata": {},
     "output_type": "display_data"
    }
   ],
   "source": [
    "x = np.linspace(0,48,48)\n",
    "y = np.linspace(0,48,48)\n",
    "z = z_values_approach_as_numpy\n",
    "c = approach_as_numpy_reshape1\n",
    "\n",
    "X, Z, Y = np.meshgrid(x, z, y)\n",
    "\n",
    "fig = plt.figure(figsize=(12, 8))\n",
    "ax = fig.add_subplot(111, projection='3d')\n",
    "ax.scatter(X, Y, Z, c = c, alpha=0.5)\n",
    "plt.show()"
   ]
  },
  {
   "cell_type": "code",
   "execution_count": null,
   "metadata": {},
   "outputs": [],
   "source": []
  },
  {
   "cell_type": "code",
   "execution_count": 27,
   "metadata": {},
   "outputs": [],
   "source": [
    "approach_as_numpy_reshape1 = approach_as_numpy.reshape(502,48,48)"
   ]
  },
  {
   "cell_type": "code",
   "execution_count": 28,
   "metadata": {},
   "outputs": [
    {
     "data": {
      "text/plain": [
       "(502, 48, 48)"
      ]
     },
     "execution_count": 28,
     "metadata": {},
     "output_type": "execute_result"
    }
   ],
   "source": [
    "approach_as_numpy_reshape1.shape"
   ]
  },
  {
   "cell_type": "code",
   "execution_count": 52,
   "metadata": {},
   "outputs": [
    {
     "ename": "AttributeError",
     "evalue": "'FigureCanvasAgg' object has no attribute 'show'",
     "output_type": "error",
     "traceback": [
      "\u001b[0;31m---------------------------------------------------------------------------\u001b[0m",
      "\u001b[0;31mAttributeError\u001b[0m                            Traceback (most recent call last)",
      "\u001b[0;32m<ipython-input-52-e6efc71a1d1d>\u001b[0m in \u001b[0;36m<module>\u001b[0;34m()\u001b[0m\n\u001b[1;32m     30\u001b[0m \u001b[0max\u001b[0m\u001b[0;34m.\u001b[0m\u001b[0mset_ylabel\u001b[0m\u001b[0;34m(\u001b[0m\u001b[0;34m'y'\u001b[0m\u001b[0;34m)\u001b[0m\u001b[0;34m\u001b[0m\u001b[0m\n\u001b[1;32m     31\u001b[0m \u001b[0max\u001b[0m\u001b[0;34m.\u001b[0m\u001b[0mset_zlabel\u001b[0m\u001b[0;34m(\u001b[0m\u001b[0;34m'z'\u001b[0m\u001b[0;34m)\u001b[0m\u001b[0;34m\u001b[0m\u001b[0m\n\u001b[0;32m---> 32\u001b[0;31m \u001b[0mfig\u001b[0m\u001b[0;34m.\u001b[0m\u001b[0mcanvas\u001b[0m\u001b[0;34m.\u001b[0m\u001b[0mshow\u001b[0m\u001b[0;34m(\u001b[0m\u001b[0;34m)\u001b[0m\u001b[0;34m\u001b[0m\u001b[0m\n\u001b[0m",
      "\u001b[0;31mAttributeError\u001b[0m: 'FigureCanvasAgg' object has no attribute 'show'"
     ]
    },
    {
     "data": {
      "image/png": "[encoded data removed]",
      "text/plain": [
       "<matplotlib.figure.Figure at 0x115860390>"
      ]
     },
     "metadata": {},
     "output_type": "display_data"
    }
   ],
   "source": [
    "import matplotlib\n",
    "import matplotlib.pyplot as plt\n",
    "from mpl_toolkits.mplot3d import Axes3D\n",
    "import numpy as np\n",
    "\n",
    "# domains\n",
    "x = np.logspace(-1.,np.log10(5),50) # [0.1, 5]\n",
    "y = np.linspace(6,9,50)             # [6, 9]\n",
    "z = np.linspace(-1,1,50)            # [-1, 1]\n",
    "c = np.linspace(-1,1,50)\n",
    "\n",
    "# convert to 2d matrices\n",
    "Z = np.outer(z.T, z)        # 50x50\n",
    "X, Y = np.meshgrid(x, y)    # 50x50\n",
    "\n",
    "# fourth dimention - colormap\n",
    "# create colormap according to x-value (can use any 50x50 array)\n",
    "color_dimension = Z # change to desired fourth dimension\n",
    "minn, maxx = color_dimension.min(), color_dimension.max()\n",
    "norm = matplotlib.colors.Normalize(minn, maxx)\n",
    "m = plt.cm.ScalarMappable(norm=norm, cmap='jet')\n",
    "m.set_array([])\n",
    "fcolors = m.to_rgba(color_dimension)\n",
    "\n",
    "# plot\n",
    "fig = plt.figure()\n",
    "ax = fig.gca(projection='3d')\n",
    "ax.plot_surface(X,Y,Z, rstride=1, cstride=1, facecolors=fcolors, vmin=minn, vmax=maxx, shade=False)\n",
    "ax.set_xlabel('x')\n",
    "ax.set_ylabel('y')\n",
    "ax.set_zlabel('z')\n",
    "fig.canvas.show()"
   ]
  },
  {
   "cell_type": "code",
   "execution_count": 78,
   "metadata": {},
   "outputs": [],
   "source": [
    "import matplotlib.cm as cmx\n",
    "from mpl_toolkits.mplot3d import Axes3D\n",
    "import matplotlib.pyplot as plt\n",
    "import matplotlib\n",
    "import numpy as np\n",
    "\n",
    "def scatter3d(x,y,z, cs, colorsMap='jet'):\n",
    "    cm = plt.get_cmap(colorsMap)\n",
    "    cNorm = matplotlib.colors.Normalize(vmin=np.min(cs), vmax=np.max(cs))\n",
    "    scalarMap = cmx.ScalarMappable(norm=cNorm, cmap=cm)\n",
    "    fig = plt.figure()\n",
    "    ax = Axes3D(fig)\n",
    "    ax.scatter(x, y, z, c=scalarMap.to_rgba(cs))\n",
    "    scalarMap.set_array(cs)\n",
    "    fig.colorbar(scalarMap,label='Test')\n",
    "    plt.show()"
   ]
  },
  {
   "cell_type": "code",
   "execution_count": 79,
   "metadata": {},
   "outputs": [
    {
     "ename": "ValueError",
     "evalue": "third dimension must be 3 or 4",
     "output_type": "error",
     "traceback": [
      "\u001b[0;31m---------------------------------------------------------------------------\u001b[0m",
      "\u001b[0;31mValueError\u001b[0m                                Traceback (most recent call last)",
      "\u001b[0;32m<ipython-input-79-0eea7bd1c16c>\u001b[0m in \u001b[0;36m<module>\u001b[0;34m()\u001b[0m\n\u001b[1;32m      3\u001b[0m \u001b[0mc\u001b[0m \u001b[0;34m=\u001b[0m \u001b[0mz_values_approach_as_numpy\u001b[0m\u001b[0;34m\u001b[0m\u001b[0m\n\u001b[1;32m      4\u001b[0m \u001b[0md\u001b[0m \u001b[0;34m=\u001b[0m \u001b[0mapproach_as_numpy_reshape1\u001b[0m\u001b[0;34m\u001b[0m\u001b[0m\n\u001b[0;32m----> 5\u001b[0;31m \u001b[0mscatter3d\u001b[0m\u001b[0;34m(\u001b[0m\u001b[0ma\u001b[0m\u001b[0;34m,\u001b[0m\u001b[0mb\u001b[0m\u001b[0;34m,\u001b[0m\u001b[0mc\u001b[0m\u001b[0;34m,\u001b[0m\u001b[0md\u001b[0m\u001b[0;34m)\u001b[0m\u001b[0;34m\u001b[0m\u001b[0m\n\u001b[0m",
      "\u001b[0;32m<ipython-input-78-55b04e85bb4b>\u001b[0m in \u001b[0;36mscatter3d\u001b[0;34m(x, y, z, cs, colorsMap)\u001b[0m\n\u001b[1;32m     11\u001b[0m     \u001b[0mfig\u001b[0m \u001b[0;34m=\u001b[0m \u001b[0mplt\u001b[0m\u001b[0;34m.\u001b[0m\u001b[0mfigure\u001b[0m\u001b[0;34m(\u001b[0m\u001b[0;34m)\u001b[0m\u001b[0;34m\u001b[0m\u001b[0m\n\u001b[1;32m     12\u001b[0m     \u001b[0max\u001b[0m \u001b[0;34m=\u001b[0m \u001b[0mAxes3D\u001b[0m\u001b[0;34m(\u001b[0m\u001b[0mfig\u001b[0m\u001b[0;34m)\u001b[0m\u001b[0;34m\u001b[0m\u001b[0m\n\u001b[0;32m---> 13\u001b[0;31m     \u001b[0max\u001b[0m\u001b[0;34m.\u001b[0m\u001b[0mscatter\u001b[0m\u001b[0;34m(\u001b[0m\u001b[0mx\u001b[0m\u001b[0;34m,\u001b[0m \u001b[0my\u001b[0m\u001b[0;34m,\u001b[0m \u001b[0mz\u001b[0m\u001b[0;34m,\u001b[0m \u001b[0mc\u001b[0m\u001b[0;34m=\u001b[0m\u001b[0mscalarMap\u001b[0m\u001b[0;34m.\u001b[0m\u001b[0mto_rgba\u001b[0m\u001b[0;34m(\u001b[0m\u001b[0mcs\u001b[0m\u001b[0;34m)\u001b[0m\u001b[0;34m)\u001b[0m\u001b[0;34m\u001b[0m\u001b[0m\n\u001b[0m\u001b[1;32m     14\u001b[0m     \u001b[0mscalarMap\u001b[0m\u001b[0;34m.\u001b[0m\u001b[0mset_array\u001b[0m\u001b[0;34m(\u001b[0m\u001b[0mcs\u001b[0m\u001b[0;34m)\u001b[0m\u001b[0;34m\u001b[0m\u001b[0m\n\u001b[1;32m     15\u001b[0m     \u001b[0mfig\u001b[0m\u001b[0;34m.\u001b[0m\u001b[0mcolorbar\u001b[0m\u001b[0;34m(\u001b[0m\u001b[0mscalarMap\u001b[0m\u001b[0;34m,\u001b[0m\u001b[0mlabel\u001b[0m\u001b[0;34m=\u001b[0m\u001b[0;34m'Test'\u001b[0m\u001b[0;34m)\u001b[0m\u001b[0;34m\u001b[0m\u001b[0m\n",
      "\u001b[0;32m~/miniconda3/lib/python3.6/site-packages/matplotlib/cm.py\u001b[0m in \u001b[0;36mto_rgba\u001b[0;34m(self, x, alpha, bytes, norm)\u001b[0m\n\u001b[1;32m    252\u001b[0m                     \u001b[0mxx\u001b[0m \u001b[0;34m=\u001b[0m \u001b[0mx\u001b[0m\u001b[0;34m\u001b[0m\u001b[0m\n\u001b[1;32m    253\u001b[0m                 \u001b[0;32melse\u001b[0m\u001b[0;34m:\u001b[0m\u001b[0;34m\u001b[0m\u001b[0m\n\u001b[0;32m--> 254\u001b[0;31m                     \u001b[0;32mraise\u001b[0m \u001b[0mValueError\u001b[0m\u001b[0;34m(\u001b[0m\u001b[0;34m\"third dimension must be 3 or 4\"\u001b[0m\u001b[0;34m)\u001b[0m\u001b[0;34m\u001b[0m\u001b[0m\n\u001b[0m\u001b[1;32m    255\u001b[0m                 \u001b[0;32mif\u001b[0m \u001b[0mxx\u001b[0m\u001b[0;34m.\u001b[0m\u001b[0mdtype\u001b[0m\u001b[0;34m.\u001b[0m\u001b[0mkind\u001b[0m \u001b[0;34m==\u001b[0m \u001b[0;34m'f'\u001b[0m\u001b[0;34m:\u001b[0m\u001b[0;34m\u001b[0m\u001b[0m\n\u001b[1;32m    256\u001b[0m                     \u001b[0;32mif\u001b[0m \u001b[0mnorm\u001b[0m \u001b[0;32mand\u001b[0m \u001b[0mxx\u001b[0m\u001b[0;34m.\u001b[0m\u001b[0mmax\u001b[0m\u001b[0;34m(\u001b[0m\u001b[0;34m)\u001b[0m \u001b[0;34m>\u001b[0m \u001b[0;36m1\u001b[0m \u001b[0;32mor\u001b[0m \u001b[0mxx\u001b[0m\u001b[0;34m.\u001b[0m\u001b[0mmin\u001b[0m\u001b[0;34m(\u001b[0m\u001b[0;34m)\u001b[0m \u001b[0;34m<\u001b[0m \u001b[0;36m0\u001b[0m\u001b[0;34m:\u001b[0m\u001b[0;34m\u001b[0m\u001b[0m\n",
      "\u001b[0;31mValueError\u001b[0m: third dimension must be 3 or 4"
     ]
    },
    {
     "data": {
      "image/png": "[encoded data removed]",
      "text/plain": [
       "<matplotlib.figure.Figure at 0x1159301d0>"
      ]
     },
     "metadata": {},
     "output_type": "display_data"
    }
   ],
   "source": [
    "a = np.linspace(0,48,48)\n",
    "b = np.linspace(0,48,48)\n",
    "c = z_values_approach_as_numpy\n",
    "d = approach_as_numpy_reshape1\n",
    "scatter3d(a,b,c,d)"
   ]
  },
  {
   "cell_type": "code",
   "execution_count": 77,
   "metadata": {},
   "outputs": [
    {
     "data": {
      "text/plain": [
       "95.25831054"
      ]
     },
     "execution_count": 77,
     "metadata": {},
     "output_type": "execute_result"
    }
   ],
   "source": [
    "a = approach_as_numpy_reshape1\n",
    "b = np.linspace(0,48,48)\n",
    "c = z_values_approach_as_numpy\n",
    "d = approach_as_numpy_reshape1\n",
    "scatter3d(a,b,c,d)"
   ]
  },
  {
   "cell_type": "code",
   "execution_count": 3,
   "metadata": {},
   "outputs": [
    {
     "ename": "NameError",
     "evalue": "name '__file__' is not defined",
     "output_type": "error",
     "traceback": [
      "\u001b[0;31m---------------------------------------------------------------------------\u001b[0m",
      "\u001b[0;31mNameError\u001b[0m                                 Traceback (most recent call last)",
      "\u001b[0;32m<ipython-input-3-5dd0294b2426>\u001b[0m in \u001b[0;36m<module>\u001b[0;34m()\u001b[0m\n\u001b[1;32m     77\u001b[0m \u001b[0mdistribution_select\u001b[0m \u001b[0;34m=\u001b[0m \u001b[0mSelect\u001b[0m\u001b[0;34m(\u001b[0m\u001b[0mvalue\u001b[0m\u001b[0;34m=\u001b[0m\u001b[0mdistribution\u001b[0m\u001b[0;34m,\u001b[0m \u001b[0mtitle\u001b[0m\u001b[0;34m=\u001b[0m\u001b[0;34m'Distribution'\u001b[0m\u001b[0;34m,\u001b[0m \u001b[0moptions\u001b[0m\u001b[0;34m=\u001b[0m\u001b[0;34m[\u001b[0m\u001b[0;34m'Discrete'\u001b[0m\u001b[0;34m,\u001b[0m \u001b[0;34m'Smoothed'\u001b[0m\u001b[0;34m]\u001b[0m\u001b[0;34m)\u001b[0m\u001b[0;34m\u001b[0m\u001b[0m\n\u001b[1;32m     78\u001b[0m \u001b[0;34m\u001b[0m\u001b[0m\n\u001b[0;32m---> 79\u001b[0;31m \u001b[0mdf\u001b[0m \u001b[0;34m=\u001b[0m \u001b[0mpd\u001b[0m\u001b[0;34m.\u001b[0m\u001b[0mread_csv\u001b[0m\u001b[0;34m(\u001b[0m\u001b[0mjoin\u001b[0m\u001b[0;34m(\u001b[0m\u001b[0mdirname\u001b[0m\u001b[0;34m(\u001b[0m\u001b[0m__file__\u001b[0m\u001b[0;34m)\u001b[0m\u001b[0;34m,\u001b[0m \u001b[0;34m'data/2015_weather.csv'\u001b[0m\u001b[0;34m)\u001b[0m\u001b[0;34m)\u001b[0m\u001b[0;34m\u001b[0m\u001b[0m\n\u001b[0m\u001b[1;32m     80\u001b[0m \u001b[0msource\u001b[0m \u001b[0;34m=\u001b[0m \u001b[0mget_dataset\u001b[0m\u001b[0;34m(\u001b[0m\u001b[0mdf\u001b[0m\u001b[0;34m,\u001b[0m \u001b[0mcities\u001b[0m\u001b[0;34m[\u001b[0m\u001b[0mcity\u001b[0m\u001b[0;34m]\u001b[0m\u001b[0;34m[\u001b[0m\u001b[0;34m'airport'\u001b[0m\u001b[0;34m]\u001b[0m\u001b[0;34m,\u001b[0m \u001b[0mdistribution\u001b[0m\u001b[0;34m)\u001b[0m\u001b[0;34m\u001b[0m\u001b[0m\n\u001b[1;32m     81\u001b[0m \u001b[0mplot\u001b[0m \u001b[0;34m=\u001b[0m \u001b[0mmake_plot\u001b[0m\u001b[0;34m(\u001b[0m\u001b[0msource\u001b[0m\u001b[0;34m,\u001b[0m \u001b[0;34m\"Weather data for \"\u001b[0m \u001b[0;34m+\u001b[0m \u001b[0mcities\u001b[0m\u001b[0;34m[\u001b[0m\u001b[0mcity\u001b[0m\u001b[0;34m]\u001b[0m\u001b[0;34m[\u001b[0m\u001b[0;34m'title'\u001b[0m\u001b[0;34m]\u001b[0m\u001b[0;34m)\u001b[0m\u001b[0;34m\u001b[0m\u001b[0m\n",
      "\u001b[0;31mNameError\u001b[0m: name '__file__' is not defined"
     ]
    }
   ],
   "source": [
    "from os.path import join, dirname\n",
    "import datetime\n",
    "\n",
    "import pandas as pd\n",
    "from scipy.signal import savgol_filter\n",
    "\n",
    "from bokeh.io import curdoc\n",
    "from bokeh.layouts import row, column\n",
    "from bokeh.models import ColumnDataSource, DataRange1d, Select\n",
    "from bokeh.palettes import Blues4\n",
    "from bokeh.plotting import figure\n",
    "\n",
    "STATISTICS = ['record_min_temp', 'actual_min_temp', 'average_min_temp', 'average_max_temp', 'actual_max_temp', 'record_max_temp']\n",
    "\n",
    "def get_dataset(src, name, distribution):\n",
    "    df = src[src.airport == name].copy()\n",
    "    del df['airport']\n",
    "    df['date'] = pd.to_datetime(df.date)\n",
    "    # timedelta here instead of pd.DateOffset to avoid pandas bug < 0.18 (Pandas issue #11925)\n",
    "    df['left'] = df.date - datetime.timedelta(days=0.5)\n",
    "    df['right'] = df.date + datetime.timedelta(days=0.5)\n",
    "    df = df.set_index(['date'])\n",
    "    df.sort_index(inplace=True)\n",
    "    if distribution == 'Smoothed':\n",
    "        window, order = 51, 3\n",
    "        for key in STATISTICS:\n",
    "            df[key] = savgol_filter(df[key], window, order)\n",
    "\n",
    "    return ColumnDataSource(data=df)\n",
    "\n",
    "def make_plot(source, title):\n",
    "    plot = figure(x_axis_type=\"datetime\", plot_width=800, tools=\"\", toolbar_location=None)\n",
    "    plot.title.text = title\n",
    "\n",
    "    plot.quad(top='record_max_temp', bottom='record_min_temp', left='left', right='right',\n",
    "              color=Blues4[2], source=source, legend=\"Record\")\n",
    "    plot.quad(top='average_max_temp', bottom='average_min_temp', left='left', right='right',\n",
    "              color=Blues4[1], source=source, legend=\"Average\")\n",
    "    plot.quad(top='actual_max_temp', bottom='actual_min_temp', left='left', right='right',\n",
    "              color=Blues4[0], alpha=0.5, line_color=\"black\", source=source, legend=\"Actual\")\n",
    "\n",
    "    # fixed attributes\n",
    "    plot.xaxis.axis_label = None\n",
    "    plot.yaxis.axis_label = \"Temperature (F)\"\n",
    "    plot.axis.axis_label_text_font_style = \"bold\"\n",
    "    plot.x_range = DataRange1d(range_padding=0.0)\n",
    "    plot.grid.grid_line_alpha = 0.3\n",
    "\n",
    "    return plot\n",
    "\n",
    "def update_plot(attrname, old, new):\n",
    "    city = city_select.value\n",
    "    plot.title.text = \"Weather data for \" + cities[city]['title']\n",
    "\n",
    "    src = get_dataset(df, cities[city]['airport'], distribution_select.value)\n",
    "    source.data.update(src.data)\n",
    "\n",
    "city = 'Austin'\n",
    "distribution = 'Discrete'\n",
    "\n",
    "cities = {\n",
    "    'Austin': {\n",
    "        'airport': 'AUS',\n",
    "        'title': 'Austin, TX',\n",
    "    },\n",
    "    'Boston': {\n",
    "        'airport': 'BOS',\n",
    "        'title': 'Boston, MA',\n",
    "    },\n",
    "    'Seattle': {\n",
    "        'airport': 'SEA',\n",
    "        'title': 'Seattle, WA',\n",
    "    }\n",
    "}\n",
    "\n",
    "city_select = Select(value=city, title='City', options=sorted(cities.keys()))\n",
    "distribution_select = Select(value=distribution, title='Distribution', options=['Discrete', 'Smoothed'])\n",
    "\n",
    "df = pd.read_csv(join(dirname(__file__), 'data/2015_weather.csv'))\n",
    "source = get_dataset(df, cities[city]['airport'], distribution)\n",
    "plot = make_plot(source, \"Weather data for \" + cities[city]['title'])\n",
    "\n",
    "city_select.on_change('value', update_plot)\n",
    "distribution_select.on_change('value', update_plot)\n",
    "\n",
    "controls = column(city_select, distribution_select)\n",
    "\n",
    "curdoc().add_root(row(plot, controls))\n",
    "curdoc().title = \"Weather\""
   ]
  },
  {
   "cell_type": "code",
   "execution_count": 7,
   "metadata": {},
   "outputs": [],
   "source": [
    "##Code to conn\n",
    "\n",
    "from IPython import display\n",
    "import os\n",
    "def show_app(app, port = 9999, \n",
    "             width = 700, \n",
    "             height = 350, \n",
    "             offline = False,\n",
    "            in_binder = None):\n",
    "    in_binder ='JUPYTERHUB_SERVICE_PREFIX' in os.environ if in_binder is None else in_binder\n",
    "    if in_binder:\n",
    "        base_prefix = '{}proxy/{}/'.format(os.environ['JUPYTERHUB_SERVICE_PREFIX'], port)\n",
    "        url = 'https://hub.mybinder.org{}'.format(base_prefix)\n",
    "        app.config.requests_pathname_prefix = base_prefix\n",
    "    else:\n",
    "        url = 'http://localhost:%d' % port\n",
    "        \n",
    "    iframe = '<a href=\"{url}\" target=\"_new\">Open in new window</a><hr><iframe src=\"{url}\" width={width} height={height}></iframe>'.format(url = url, \n",
    "                                                                                  width = width, \n",
    "                                                                                  height = height)\n",
    "    \n",
    "    display.display_html(iframe, raw = True)\n",
    "    if offline:\n",
    "        app.css.config.serve_locally = True\n",
    "        app.scripts.config.serve_locally = True\n",
    "    return app.run_server(debug=False, # needs to be false in Jupyter\n",
    "                          host = '0.0.0.0',\n",
    "                          port=port)"
   ]
  },
  {
   "cell_type": "code",
   "execution_count": 4,
   "metadata": {},
   "outputs": [],
   "source": [
    "%matplotlib inline\n",
    "import matplotlib.pyplot as plt\n",
    "import numpy as np\n",
    "from io import BytesIO\n",
    "import base64\n",
    "import dash\n",
    "import dash_core_components as dcc\n",
    "import dash_html_components as html\n",
    "from dash.dependencies import Input, Output\n",
    "\n",
    "def fig_to_uri(in_fig, close_all=True, **save_args):\n",
    "    # type: (plt.Figure) -> str\n",
    "    \"\"\"\n",
    "    Save a figure as a URI\n",
    "    :param in_fig:\n",
    "    :return:\n",
    "    \"\"\"\n",
    "    out_img = BytesIO()\n",
    "    in_fig.savefig(out_img, format='png', **save_args)\n",
    "    if close_all:\n",
    "        in_fig.clf()\n",
    "        plt.close('all')\n",
    "    out_img.seek(0)  # rewind file\n",
    "    encoded = base64.b64encode(out_img.read()).decode(\"ascii\").replace(\"\\n\", \"\")\n",
    "    return \"data:image/png;base64,{}\".format(encoded)\n",
    "app_iplot = dash.Dash()\n",
    "\n",
    "app_iplot.layout = html.Div([\n",
    "    dcc.Input(id='plot_title', value='Type title...', type=\"text\"),\n",
    "    dcc.Slider(\n",
    "        id='box_size',\n",
    "        min=1,\n",
    "        max=10,\n",
    "        value=4,\n",
    "        step=1,\n",
    "        marks=list(range(0, 10))\n",
    "    ),\n",
    "    html.Div([html.Img(id = 'cur_plot', src = '')],\n",
    "             id='plot_div')\n",
    "])\n",
    "\n",
    "@app_iplot.callback(\n",
    "    Output(component_id='cur_plot', component_property='src'),\n",
    "    [Input(component_id='plot_title', component_property='value'), Input(component_id = 'box_size', component_property='value')]\n",
    ")\n",
    "def update_graph(input_value, n_val):\n",
    "    fig, ax1 = plt.subplots(1,1)\n",
    "    np.random.seed(len(input_value))\n",
    "    ax1.matshow(np.random.uniform(-1,1, size = (n_val,n_val)))\n",
    "    ax1.set_title(input_value)\n",
    "    out_url = fig_to_uri(fig)\n",
    "    return out_url"
   ]
  },
  {
   "cell_type": "code",
   "execution_count": null,
   "metadata": {},
   "outputs": [
    {
     "data": {
      "text/html": [
       "<a href=\"http://localhost:9999\" target=\"_new\">Open in new window</a><hr><iframe src=\"http://localhost:9999\" width=700 height=350></iframe>"
      ]
     },
     "metadata": {},
     "output_type": "display_data"
    },
    {
     "name": "stderr",
     "output_type": "stream",
     "text": [
      " * Running on http://0.0.0.0:9999/ (Press CTRL+C to quit)\n",
      "127.0.0.1 - - [02/May/2018 10:04:24] \"GET / HTTP/1.1\" 200 -\n",
      "127.0.0.1 - - [02/May/2018 10:04:25] \"GET /_dash-layout HTTP/1.1\" 200 -\n",
      "127.0.0.1 - - [02/May/2018 10:04:25] \"GET /_dash-dependencies HTTP/1.1\" 200 -\n",
      "127.0.0.1 - - [02/May/2018 10:04:25] \"POST /_dash-update-component HTTP/1.1\" 200 -\n",
      "127.0.0.1 - - [02/May/2018 10:04:25] \"GET /favicon.ico HTTP/1.1\" 200 -\n",
      "127.0.0.1 - - [02/May/2018 10:04:28] \"POST /_dash-update-component HTTP/1.1\" 200 -\n"
     ]
    }
   ],
   "source": [
    "show_app(app_iplot)"
   ]
  },
  {
   "cell_type": "code",
   "execution_count": null,
   "metadata": {},
   "outputs": [],
   "source": []
  }
 ],
 "metadata": {
  "kernelspec": {
   "display_name": "Python 3",
   "language": "python",
   "name": "python3"
  }
 },
 "nbformat": 4,
 "nbformat_minor": 2
}
