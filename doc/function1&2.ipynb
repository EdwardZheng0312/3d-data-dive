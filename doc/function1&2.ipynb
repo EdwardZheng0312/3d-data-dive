{
 "cells": [
  {
   "cell_type": "code",
   "execution_count": 1,
   "metadata": {},
   "outputs": [],
   "source": [
    "import pandas as pd\n",
    "import numpy as np\n",
    "import load_data\n",
    "import create_pslist\n",
    "\n",
    "pslist,z_approach,z_retract = create_pslist.create_pslist('PHASEdata.csv',48,48)"
   ]
  },
  {
   "cell_type": "code",
   "execution_count": 2,
   "metadata": {},
   "outputs": [
    {
     "data": {
      "text/plain": [
       "0    2.000000\n",
       "1    1.999980\n",
       "2    1.999921\n",
       "3    1.999822\n",
       "4    1.999684\n",
       "Name: Z (nm), dtype: float64"
      ]
     },
     "execution_count": 2,
     "metadata": {},
     "output_type": "execute_result"
    }
   ],
   "source": [
    "z_approach.head()"
   ]
  },
  {
   "cell_type": "code",
   "execution_count": 3,
   "metadata": {},
   "outputs": [
    {
     "data": {
      "text/plain": [
       "array([[ 91.94897021,  91.70679065,  90.94604959, ...,  91.93393794,\n",
       "         91.42359345,  91.74046486],\n",
       "       [ 90.03918674,  90.68860081,  91.70098479, ...,  91.45822202,\n",
       "         91.70842044,  91.34248738],\n",
       "       [ 91.73006559,  91.94411031,  90.21072438, ...,  90.17966128,\n",
       "         91.71848386,  91.84138877],\n",
       "       ..., \n",
       "       [ 91.21734413,  91.08506676,  90.58701426, ...,  90.53862373,\n",
       "         90.08494138,  91.85133174],\n",
       "       [ 91.95377399,  91.99926718,  91.71209129, ...,  90.68655417,\n",
       "         90.90733144,  90.71482419],\n",
       "       [ 91.51978766,  90.58820834,  90.71813799, ...,  91.79918429,\n",
       "         90.40795399,  91.60880612]])"
      ]
     },
     "execution_count": 3,
     "metadata": {},
     "output_type": "execute_result"
    }
   ],
   "source": [
    "pslist[0]"
   ]
  }
 ],
 "metadata": {
  "kernelspec": {
   "display_name": "Python 3",
   "language": "python",
   "name": "python3"
  },
  "language_info": {
   "codemirror_mode": {
    "name": "ipython",
    "version": 3
   },
   "file_extension": ".py",
   "mimetype": "text/x-python",
   "name": "python",
   "nbconvert_exporter": "python",
   "pygments_lexer": "ipython3",
   "version": "3.6.4"
  }
 },
 "nbformat": 4,
 "nbformat_minor": 2
}
