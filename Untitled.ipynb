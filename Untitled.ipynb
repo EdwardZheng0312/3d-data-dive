{
 "cells": [
  {
   "cell_type": "code",
   "execution_count": null,
   "metadata": {},
   "outputs": [],
   "source": [
    "import pandas as pd\n",
    "import numpy as np\n",
    "import matplotlib.pyplot as plt\n",
    "from mpl_toolkits.mplot3d import Axes3D\n",
    "%matplotlib inline"
   ]
  },
  {
   "cell_type": "code",
   "execution_count": null,
   "metadata": {},
   "outputs": [],
   "source": [
    "data = pd.read_csv('PHASEdata.csv',header=None, skiprows=1)\n",
    "z = data[0]\n",
    "#print(z)\n",
    "z_approach = z[:500]\n",
    "z_retract = z[500:]\n",
    "#print(z_approach)\n",
    "#print(z_retract)\n",
    "z_approach_as_numpy = z_approach.as_matrix(columns=None)\n",
    "\n",
    "#phase shift\n",
    "pslist = []\n",
    "for k in range(len(z)):\n",
    "    phaseshift = data.iloc[k,1:]  #[from zero row to the end row, from second column to the last column]\n",
    "    #print(phaseshift)\n",
    "    ps = np.array(phaseshift)\n",
    "    ps_reshape = np.reshape(ps,(48,48))\n",
    "    #print(ps)\n",
    "    pslist.append(ps_reshape)\n",
    "#print(pslist)"
   ]
  },
  {
   "cell_type": "code",
   "execution_count": null,
   "metadata": {},
   "outputs": [],
   "source": [
    "a = np.linspace(0, 47, 48)\n",
    "b = np.linspace(0, 47, 48)\n",
    "c = z_approach_as_numpy\n",
    "x, y, z = np.meshgrid(a, b, c)\n",
    "\n",
    "#phaseshift information as intensity case\n",
    "psasas = []\n",
    "for k in range(len(c)):\n",
    "    C = pslist[k]\n",
    "    for i in range(len(a)):\n",
    "        B = pslist[k][i]\n",
    "        for j in range(len(b)):\n",
    "            A = pslist[k][i][j]\n",
    "            psasas.append(A)\n",
    "l = psasas\n",
    "\n",
    "fig = plt.figure(figsize=(15,15))\n",
    "ax = fig.add_subplot(111, projection='3d')\n",
    "ax.scatter(x, y, z, c=l, alpha=.9)\n",
    "ax.set_xlabel('X(nm)', fontsize=15)\n",
    "ax.set_ylabel('Y(nm)', fontsize=15)\n",
    "ax.set_zlabel('Z(nm)', fontsize=15)\n",
    "ax.set_title('3D Plot for the AFM Phase Shift of XXX', fontsize=20)\n",
    "plt.show()"
   ]
  },
  {
   "cell_type": "code",
   "execution_count": null,
   "metadata": {},
   "outputs": [],
   "source": [
    "a = np.linspace(0,2,2)\n",
    "b = np.linspace(0,3,3)\n",
    "c = np.linspace(0,4,4)\n",
    "x,z,y = np.meshgrid(a,c,b)\n",
    "\n",
    "#phaseshift information as intensity case\n",
    "psasas = []\n",
    "for k in range(len(c)):\n",
    "    C = pslist[k]\n",
    "    for i in range(len(a)):\n",
    "        B = pslist[k][i]\n",
    "        for j in range(len(b)):\n",
    "            A = pslist[k][i][j]\n",
    "            psasas.append(A)\n",
    "l = psasas\n",
    "\n",
    "fig = plt.figure(figsize=(15,15))\n",
    "ax = fig.add_subplot(111, projection='3d')\n",
    "ax.scatter(x, y, z, c=l, alpha=.9)"
   ]
  },
  {
   "cell_type": "code",
   "execution_count": null,
   "metadata": {},
   "outputs": [],
   "source": [
    "x"
   ]
  },
  {
   "cell_type": "code",
   "execution_count": null,
   "metadata": {},
   "outputs": [],
   "source": [
    "y"
   ]
  },
  {
   "cell_type": "code",
   "execution_count": null,
   "metadata": {},
   "outputs": [],
   "source": [
    "z"
   ]
  },
  {
   "cell_type": "code",
   "execution_count": null,
   "metadata": {},
   "outputs": [],
   "source": [
    "psasas = []\n",
    "for k in range(len(c)):\n",
    "    C = pslist[k]\n",
    "    for i in range(len(a)):\n",
    "        B = pslist[k][i]\n",
    "        for j in range(len(b)):\n",
    "            A = pslist[k][i][j]\n",
    "            psasas.append(A)\n",
    "psasas"
   ]
  },
  {
   "cell_type": "code",
   "execution_count": null,
   "metadata": {},
   "outputs": [],
   "source": [
    "psasas[23]"
   ]
  },
  {
   "cell_type": "code",
   "execution_count": null,
   "metadata": {},
   "outputs": [],
   "source": []
  }
 ],
 "metadata": {
  "kernelspec": {
   "display_name": "Python 3",
   "language": "python",
   "name": "python3"
  },
  "language_info": {
   "codemirror_mode": {
    "name": "ipython",
    "version": 3
   },
   "file_extension": ".py",
   "mimetype": "text/x-python",
   "name": "python",
   "nbconvert_exporter": "python",
   "pygments_lexer": "ipython3",
   "version": "3.6.3"
  }
 },
 "nbformat": 4,
 "nbformat_minor": 2
}
